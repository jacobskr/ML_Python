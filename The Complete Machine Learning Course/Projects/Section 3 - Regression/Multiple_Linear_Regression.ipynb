{
 "cells": [
  {
   "cell_type": "markdown",
   "metadata": {},
   "source": [
    "# Multiple Regression\n",
    "### Multiple features to predict target variable"
   ]
  },
  {
   "cell_type": "code",
   "execution_count": 1,
   "metadata": {},
   "outputs": [],
   "source": [
    "import numpy as np\n",
    "import pandas as pd\n",
    "import matplotlib.pyplot as plt\n",
    "%matplotlib inline\n",
    "import seaborn as sns"
   ]
  },
  {
   "cell_type": "code",
   "execution_count": 2,
   "metadata": {},
   "outputs": [],
   "source": [
    "from sklearn.datasets import load_boston"
   ]
  },
  {
   "cell_type": "code",
   "execution_count": 3,
   "metadata": {},
   "outputs": [],
   "source": [
    "boston_data = load_boston()"
   ]
  },
  {
   "cell_type": "code",
   "execution_count": 5,
   "metadata": {},
   "outputs": [],
   "source": [
    "df = pd.DataFrame(boston_data.data, columns=boston_data.feature_names)"
   ]
  },
  {
   "cell_type": "code",
   "execution_count": 6,
   "metadata": {},
   "outputs": [
    {
     "data": {
      "text/html": [
       "<div>\n",
       "<style scoped>\n",
       "    .dataframe tbody tr th:only-of-type {\n",
       "        vertical-align: middle;\n",
       "    }\n",
       "\n",
       "    .dataframe tbody tr th {\n",
       "        vertical-align: top;\n",
       "    }\n",
       "\n",
       "    .dataframe thead th {\n",
       "        text-align: right;\n",
       "    }\n",
       "</style>\n",
       "<table border=\"1\" class=\"dataframe\">\n",
       "  <thead>\n",
       "    <tr style=\"text-align: right;\">\n",
       "      <th></th>\n",
       "      <th>CRIM</th>\n",
       "      <th>ZN</th>\n",
       "      <th>INDUS</th>\n",
       "      <th>CHAS</th>\n",
       "      <th>NOX</th>\n",
       "      <th>RM</th>\n",
       "      <th>AGE</th>\n",
       "      <th>DIS</th>\n",
       "      <th>RAD</th>\n",
       "      <th>TAX</th>\n",
       "      <th>PTRATIO</th>\n",
       "      <th>B</th>\n",
       "      <th>LSTAT</th>\n",
       "    </tr>\n",
       "  </thead>\n",
       "  <tbody>\n",
       "    <tr>\n",
       "      <th>0</th>\n",
       "      <td>0.00632</td>\n",
       "      <td>18.0</td>\n",
       "      <td>2.31</td>\n",
       "      <td>0.0</td>\n",
       "      <td>0.538</td>\n",
       "      <td>6.575</td>\n",
       "      <td>65.2</td>\n",
       "      <td>4.0900</td>\n",
       "      <td>1.0</td>\n",
       "      <td>296.0</td>\n",
       "      <td>15.3</td>\n",
       "      <td>396.90</td>\n",
       "      <td>4.98</td>\n",
       "    </tr>\n",
       "    <tr>\n",
       "      <th>1</th>\n",
       "      <td>0.02731</td>\n",
       "      <td>0.0</td>\n",
       "      <td>7.07</td>\n",
       "      <td>0.0</td>\n",
       "      <td>0.469</td>\n",
       "      <td>6.421</td>\n",
       "      <td>78.9</td>\n",
       "      <td>4.9671</td>\n",
       "      <td>2.0</td>\n",
       "      <td>242.0</td>\n",
       "      <td>17.8</td>\n",
       "      <td>396.90</td>\n",
       "      <td>9.14</td>\n",
       "    </tr>\n",
       "    <tr>\n",
       "      <th>2</th>\n",
       "      <td>0.02729</td>\n",
       "      <td>0.0</td>\n",
       "      <td>7.07</td>\n",
       "      <td>0.0</td>\n",
       "      <td>0.469</td>\n",
       "      <td>7.185</td>\n",
       "      <td>61.1</td>\n",
       "      <td>4.9671</td>\n",
       "      <td>2.0</td>\n",
       "      <td>242.0</td>\n",
       "      <td>17.8</td>\n",
       "      <td>392.83</td>\n",
       "      <td>4.03</td>\n",
       "    </tr>\n",
       "    <tr>\n",
       "      <th>3</th>\n",
       "      <td>0.03237</td>\n",
       "      <td>0.0</td>\n",
       "      <td>2.18</td>\n",
       "      <td>0.0</td>\n",
       "      <td>0.458</td>\n",
       "      <td>6.998</td>\n",
       "      <td>45.8</td>\n",
       "      <td>6.0622</td>\n",
       "      <td>3.0</td>\n",
       "      <td>222.0</td>\n",
       "      <td>18.7</td>\n",
       "      <td>394.63</td>\n",
       "      <td>2.94</td>\n",
       "    </tr>\n",
       "    <tr>\n",
       "      <th>4</th>\n",
       "      <td>0.06905</td>\n",
       "      <td>0.0</td>\n",
       "      <td>2.18</td>\n",
       "      <td>0.0</td>\n",
       "      <td>0.458</td>\n",
       "      <td>7.147</td>\n",
       "      <td>54.2</td>\n",
       "      <td>6.0622</td>\n",
       "      <td>3.0</td>\n",
       "      <td>222.0</td>\n",
       "      <td>18.7</td>\n",
       "      <td>396.90</td>\n",
       "      <td>5.33</td>\n",
       "    </tr>\n",
       "  </tbody>\n",
       "</table>\n",
       "</div>"
      ],
      "text/plain": [
       "      CRIM    ZN  INDUS  CHAS    NOX     RM   AGE     DIS  RAD    TAX  \\\n",
       "0  0.00632  18.0   2.31   0.0  0.538  6.575  65.2  4.0900  1.0  296.0   \n",
       "1  0.02731   0.0   7.07   0.0  0.469  6.421  78.9  4.9671  2.0  242.0   \n",
       "2  0.02729   0.0   7.07   0.0  0.469  7.185  61.1  4.9671  2.0  242.0   \n",
       "3  0.03237   0.0   2.18   0.0  0.458  6.998  45.8  6.0622  3.0  222.0   \n",
       "4  0.06905   0.0   2.18   0.0  0.458  7.147  54.2  6.0622  3.0  222.0   \n",
       "\n",
       "   PTRATIO       B  LSTAT  \n",
       "0     15.3  396.90   4.98  \n",
       "1     17.8  396.90   9.14  \n",
       "2     17.8  392.83   4.03  \n",
       "3     18.7  394.63   2.94  \n",
       "4     18.7  396.90   5.33  "
      ]
     },
     "execution_count": 6,
     "metadata": {},
     "output_type": "execute_result"
    }
   ],
   "source": [
    "df.head()"
   ]
  },
  {
   "cell_type": "code",
   "execution_count": 8,
   "metadata": {},
   "outputs": [
    {
     "data": {
      "text/plain": [
       "(506, 13)"
      ]
     },
     "execution_count": 8,
     "metadata": {},
     "output_type": "execute_result"
    }
   ],
   "source": [
    "df.shape"
   ]
  },
  {
   "cell_type": "code",
   "execution_count": 9,
   "metadata": {},
   "outputs": [],
   "source": [
    "X = df"
   ]
  },
  {
   "cell_type": "code",
   "execution_count": 10,
   "metadata": {},
   "outputs": [],
   "source": [
    "y = boston_data.target"
   ]
  },
  {
   "cell_type": "markdown",
   "metadata": {},
   "source": [
    "***"
   ]
  },
  {
   "cell_type": "markdown",
   "metadata": {},
   "source": [
    "## Statsmodels"
   ]
  },
  {
   "cell_type": "code",
   "execution_count": 11,
   "metadata": {},
   "outputs": [],
   "source": [
    "import statsmodels.api as sm\n",
    "import statsmodels.formula.api as smf"
   ]
  },
  {
   "cell_type": "markdown",
   "metadata": {},
   "source": [
    "Need to add a constant term to allow statsmodel.api to calculate the bias / intercepts"
   ]
  },
  {
   "cell_type": "code",
   "execution_count": 12,
   "metadata": {},
   "outputs": [],
   "source": [
    "X_constant = sm.add_constant(X)"
   ]
  },
  {
   "cell_type": "code",
   "execution_count": 14,
   "metadata": {
    "scrolled": true
   },
   "outputs": [
    {
     "data": {
      "text/html": [
       "<div>\n",
       "<style scoped>\n",
       "    .dataframe tbody tr th:only-of-type {\n",
       "        vertical-align: middle;\n",
       "    }\n",
       "\n",
       "    .dataframe tbody tr th {\n",
       "        vertical-align: top;\n",
       "    }\n",
       "\n",
       "    .dataframe thead th {\n",
       "        text-align: right;\n",
       "    }\n",
       "</style>\n",
       "<table border=\"1\" class=\"dataframe\">\n",
       "  <thead>\n",
       "    <tr style=\"text-align: right;\">\n",
       "      <th></th>\n",
       "      <th>const</th>\n",
       "      <th>CRIM</th>\n",
       "      <th>ZN</th>\n",
       "      <th>INDUS</th>\n",
       "      <th>CHAS</th>\n",
       "      <th>NOX</th>\n",
       "      <th>RM</th>\n",
       "      <th>AGE</th>\n",
       "      <th>DIS</th>\n",
       "      <th>RAD</th>\n",
       "      <th>TAX</th>\n",
       "      <th>PTRATIO</th>\n",
       "      <th>B</th>\n",
       "      <th>LSTAT</th>\n",
       "    </tr>\n",
       "  </thead>\n",
       "  <tbody>\n",
       "    <tr>\n",
       "      <th>0</th>\n",
       "      <td>1.0</td>\n",
       "      <td>0.00632</td>\n",
       "      <td>18.0</td>\n",
       "      <td>2.31</td>\n",
       "      <td>0.0</td>\n",
       "      <td>0.538</td>\n",
       "      <td>6.575</td>\n",
       "      <td>65.2</td>\n",
       "      <td>4.0900</td>\n",
       "      <td>1.0</td>\n",
       "      <td>296.0</td>\n",
       "      <td>15.3</td>\n",
       "      <td>396.90</td>\n",
       "      <td>4.98</td>\n",
       "    </tr>\n",
       "    <tr>\n",
       "      <th>1</th>\n",
       "      <td>1.0</td>\n",
       "      <td>0.02731</td>\n",
       "      <td>0.0</td>\n",
       "      <td>7.07</td>\n",
       "      <td>0.0</td>\n",
       "      <td>0.469</td>\n",
       "      <td>6.421</td>\n",
       "      <td>78.9</td>\n",
       "      <td>4.9671</td>\n",
       "      <td>2.0</td>\n",
       "      <td>242.0</td>\n",
       "      <td>17.8</td>\n",
       "      <td>396.90</td>\n",
       "      <td>9.14</td>\n",
       "    </tr>\n",
       "    <tr>\n",
       "      <th>2</th>\n",
       "      <td>1.0</td>\n",
       "      <td>0.02729</td>\n",
       "      <td>0.0</td>\n",
       "      <td>7.07</td>\n",
       "      <td>0.0</td>\n",
       "      <td>0.469</td>\n",
       "      <td>7.185</td>\n",
       "      <td>61.1</td>\n",
       "      <td>4.9671</td>\n",
       "      <td>2.0</td>\n",
       "      <td>242.0</td>\n",
       "      <td>17.8</td>\n",
       "      <td>392.83</td>\n",
       "      <td>4.03</td>\n",
       "    </tr>\n",
       "    <tr>\n",
       "      <th>3</th>\n",
       "      <td>1.0</td>\n",
       "      <td>0.03237</td>\n",
       "      <td>0.0</td>\n",
       "      <td>2.18</td>\n",
       "      <td>0.0</td>\n",
       "      <td>0.458</td>\n",
       "      <td>6.998</td>\n",
       "      <td>45.8</td>\n",
       "      <td>6.0622</td>\n",
       "      <td>3.0</td>\n",
       "      <td>222.0</td>\n",
       "      <td>18.7</td>\n",
       "      <td>394.63</td>\n",
       "      <td>2.94</td>\n",
       "    </tr>\n",
       "    <tr>\n",
       "      <th>4</th>\n",
       "      <td>1.0</td>\n",
       "      <td>0.06905</td>\n",
       "      <td>0.0</td>\n",
       "      <td>2.18</td>\n",
       "      <td>0.0</td>\n",
       "      <td>0.458</td>\n",
       "      <td>7.147</td>\n",
       "      <td>54.2</td>\n",
       "      <td>6.0622</td>\n",
       "      <td>3.0</td>\n",
       "      <td>222.0</td>\n",
       "      <td>18.7</td>\n",
       "      <td>396.90</td>\n",
       "      <td>5.33</td>\n",
       "    </tr>\n",
       "  </tbody>\n",
       "</table>\n",
       "</div>"
      ],
      "text/plain": [
       "   const     CRIM    ZN  INDUS  CHAS    NOX     RM   AGE     DIS  RAD    TAX  \\\n",
       "0    1.0  0.00632  18.0   2.31   0.0  0.538  6.575  65.2  4.0900  1.0  296.0   \n",
       "1    1.0  0.02731   0.0   7.07   0.0  0.469  6.421  78.9  4.9671  2.0  242.0   \n",
       "2    1.0  0.02729   0.0   7.07   0.0  0.469  7.185  61.1  4.9671  2.0  242.0   \n",
       "3    1.0  0.03237   0.0   2.18   0.0  0.458  6.998  45.8  6.0622  3.0  222.0   \n",
       "4    1.0  0.06905   0.0   2.18   0.0  0.458  7.147  54.2  6.0622  3.0  222.0   \n",
       "\n",
       "   PTRATIO       B  LSTAT  \n",
       "0     15.3  396.90   4.98  \n",
       "1     17.8  396.90   9.14  \n",
       "2     17.8  392.83   4.03  \n",
       "3     18.7  394.63   2.94  \n",
       "4     18.7  396.90   5.33  "
      ]
     },
     "execution_count": 14,
     "metadata": {},
     "output_type": "execute_result"
    }
   ],
   "source": [
    "pd.DataFrame(X_constant).head()"
   ]
  },
  {
   "cell_type": "code",
   "execution_count": 16,
   "metadata": {},
   "outputs": [],
   "source": [
    "model = sm.OLS(y, X_constant)"
   ]
  },
  {
   "cell_type": "code",
   "execution_count": 17,
   "metadata": {},
   "outputs": [],
   "source": [
    "lr = model.fit()"
   ]
  },
  {
   "cell_type": "code",
   "execution_count": 18,
   "metadata": {},
   "outputs": [
    {
     "data": {
      "text/html": [
       "<table class=\"simpletable\">\n",
       "<caption>OLS Regression Results</caption>\n",
       "<tr>\n",
       "  <th>Dep. Variable:</th>            <td>y</td>        <th>  R-squared:         </th> <td>   0.741</td> \n",
       "</tr>\n",
       "<tr>\n",
       "  <th>Model:</th>                   <td>OLS</td>       <th>  Adj. R-squared:    </th> <td>   0.734</td> \n",
       "</tr>\n",
       "<tr>\n",
       "  <th>Method:</th>             <td>Least Squares</td>  <th>  F-statistic:       </th> <td>   108.1</td> \n",
       "</tr>\n",
       "<tr>\n",
       "  <th>Date:</th>             <td>Tue, 05 Mar 2019</td> <th>  Prob (F-statistic):</th> <td>6.72e-135</td>\n",
       "</tr>\n",
       "<tr>\n",
       "  <th>Time:</th>                 <td>16:34:53</td>     <th>  Log-Likelihood:    </th> <td> -1498.8</td> \n",
       "</tr>\n",
       "<tr>\n",
       "  <th>No. Observations:</th>      <td>   506</td>      <th>  AIC:               </th> <td>   3026.</td> \n",
       "</tr>\n",
       "<tr>\n",
       "  <th>Df Residuals:</th>          <td>   492</td>      <th>  BIC:               </th> <td>   3085.</td> \n",
       "</tr>\n",
       "<tr>\n",
       "  <th>Df Model:</th>              <td>    13</td>      <th>                     </th>     <td> </td>    \n",
       "</tr>\n",
       "<tr>\n",
       "  <th>Covariance Type:</th>      <td>nonrobust</td>    <th>                     </th>     <td> </td>    \n",
       "</tr>\n",
       "</table>\n",
       "<table class=\"simpletable\">\n",
       "<tr>\n",
       "     <td></td>        <th>coef</th>     <th>std err</th>      <th>t</th>      <th>P>|t|</th>  <th>[0.025</th>    <th>0.975]</th>  \n",
       "</tr>\n",
       "<tr>\n",
       "  <th>const</th>   <td>   36.4595</td> <td>    5.103</td> <td>    7.144</td> <td> 0.000</td> <td>   26.432</td> <td>   46.487</td>\n",
       "</tr>\n",
       "<tr>\n",
       "  <th>CRIM</th>    <td>   -0.1080</td> <td>    0.033</td> <td>   -3.287</td> <td> 0.001</td> <td>   -0.173</td> <td>   -0.043</td>\n",
       "</tr>\n",
       "<tr>\n",
       "  <th>ZN</th>      <td>    0.0464</td> <td>    0.014</td> <td>    3.382</td> <td> 0.001</td> <td>    0.019</td> <td>    0.073</td>\n",
       "</tr>\n",
       "<tr>\n",
       "  <th>INDUS</th>   <td>    0.0206</td> <td>    0.061</td> <td>    0.334</td> <td> 0.738</td> <td>   -0.100</td> <td>    0.141</td>\n",
       "</tr>\n",
       "<tr>\n",
       "  <th>CHAS</th>    <td>    2.6867</td> <td>    0.862</td> <td>    3.118</td> <td> 0.002</td> <td>    0.994</td> <td>    4.380</td>\n",
       "</tr>\n",
       "<tr>\n",
       "  <th>NOX</th>     <td>  -17.7666</td> <td>    3.820</td> <td>   -4.651</td> <td> 0.000</td> <td>  -25.272</td> <td>  -10.262</td>\n",
       "</tr>\n",
       "<tr>\n",
       "  <th>RM</th>      <td>    3.8099</td> <td>    0.418</td> <td>    9.116</td> <td> 0.000</td> <td>    2.989</td> <td>    4.631</td>\n",
       "</tr>\n",
       "<tr>\n",
       "  <th>AGE</th>     <td>    0.0007</td> <td>    0.013</td> <td>    0.052</td> <td> 0.958</td> <td>   -0.025</td> <td>    0.027</td>\n",
       "</tr>\n",
       "<tr>\n",
       "  <th>DIS</th>     <td>   -1.4756</td> <td>    0.199</td> <td>   -7.398</td> <td> 0.000</td> <td>   -1.867</td> <td>   -1.084</td>\n",
       "</tr>\n",
       "<tr>\n",
       "  <th>RAD</th>     <td>    0.3060</td> <td>    0.066</td> <td>    4.613</td> <td> 0.000</td> <td>    0.176</td> <td>    0.436</td>\n",
       "</tr>\n",
       "<tr>\n",
       "  <th>TAX</th>     <td>   -0.0123</td> <td>    0.004</td> <td>   -3.280</td> <td> 0.001</td> <td>   -0.020</td> <td>   -0.005</td>\n",
       "</tr>\n",
       "<tr>\n",
       "  <th>PTRATIO</th> <td>   -0.9527</td> <td>    0.131</td> <td>   -7.283</td> <td> 0.000</td> <td>   -1.210</td> <td>   -0.696</td>\n",
       "</tr>\n",
       "<tr>\n",
       "  <th>B</th>       <td>    0.0093</td> <td>    0.003</td> <td>    3.467</td> <td> 0.001</td> <td>    0.004</td> <td>    0.015</td>\n",
       "</tr>\n",
       "<tr>\n",
       "  <th>LSTAT</th>   <td>   -0.5248</td> <td>    0.051</td> <td>  -10.347</td> <td> 0.000</td> <td>   -0.624</td> <td>   -0.425</td>\n",
       "</tr>\n",
       "</table>\n",
       "<table class=\"simpletable\">\n",
       "<tr>\n",
       "  <th>Omnibus:</th>       <td>178.041</td> <th>  Durbin-Watson:     </th> <td>   1.078</td> \n",
       "</tr>\n",
       "<tr>\n",
       "  <th>Prob(Omnibus):</th> <td> 0.000</td>  <th>  Jarque-Bera (JB):  </th> <td> 783.126</td> \n",
       "</tr>\n",
       "<tr>\n",
       "  <th>Skew:</th>          <td> 1.521</td>  <th>  Prob(JB):          </th> <td>8.84e-171</td>\n",
       "</tr>\n",
       "<tr>\n",
       "  <th>Kurtosis:</th>      <td> 8.281</td>  <th>  Cond. No.          </th> <td>1.51e+04</td> \n",
       "</tr>\n",
       "</table><br/><br/>Warnings:<br/>[1] Standard Errors assume that the covariance matrix of the errors is correctly specified.<br/>[2] The condition number is large, 1.51e+04. This might indicate that there are<br/>strong multicollinearity or other numerical problems."
      ],
      "text/plain": [
       "<class 'statsmodels.iolib.summary.Summary'>\n",
       "\"\"\"\n",
       "                            OLS Regression Results                            \n",
       "==============================================================================\n",
       "Dep. Variable:                      y   R-squared:                       0.741\n",
       "Model:                            OLS   Adj. R-squared:                  0.734\n",
       "Method:                 Least Squares   F-statistic:                     108.1\n",
       "Date:                Tue, 05 Mar 2019   Prob (F-statistic):          6.72e-135\n",
       "Time:                        16:34:53   Log-Likelihood:                -1498.8\n",
       "No. Observations:                 506   AIC:                             3026.\n",
       "Df Residuals:                     492   BIC:                             3085.\n",
       "Df Model:                          13                                         \n",
       "Covariance Type:            nonrobust                                         \n",
       "==============================================================================\n",
       "                 coef    std err          t      P>|t|      [0.025      0.975]\n",
       "------------------------------------------------------------------------------\n",
       "const         36.4595      5.103      7.144      0.000      26.432      46.487\n",
       "CRIM          -0.1080      0.033     -3.287      0.001      -0.173      -0.043\n",
       "ZN             0.0464      0.014      3.382      0.001       0.019       0.073\n",
       "INDUS          0.0206      0.061      0.334      0.738      -0.100       0.141\n",
       "CHAS           2.6867      0.862      3.118      0.002       0.994       4.380\n",
       "NOX          -17.7666      3.820     -4.651      0.000     -25.272     -10.262\n",
       "RM             3.8099      0.418      9.116      0.000       2.989       4.631\n",
       "AGE            0.0007      0.013      0.052      0.958      -0.025       0.027\n",
       "DIS           -1.4756      0.199     -7.398      0.000      -1.867      -1.084\n",
       "RAD            0.3060      0.066      4.613      0.000       0.176       0.436\n",
       "TAX           -0.0123      0.004     -3.280      0.001      -0.020      -0.005\n",
       "PTRATIO       -0.9527      0.131     -7.283      0.000      -1.210      -0.696\n",
       "B              0.0093      0.003      3.467      0.001       0.004       0.015\n",
       "LSTAT         -0.5248      0.051    -10.347      0.000      -0.624      -0.425\n",
       "==============================================================================\n",
       "Omnibus:                      178.041   Durbin-Watson:                   1.078\n",
       "Prob(Omnibus):                  0.000   Jarque-Bera (JB):              783.126\n",
       "Skew:                           1.521   Prob(JB):                    8.84e-171\n",
       "Kurtosis:                       8.281   Cond. No.                     1.51e+04\n",
       "==============================================================================\n",
       "\n",
       "Warnings:\n",
       "[1] Standard Errors assume that the covariance matrix of the errors is correctly specified.\n",
       "[2] The condition number is large, 1.51e+04. This might indicate that there are\n",
       "strong multicollinearity or other numerical problems.\n",
       "\"\"\""
      ]
     },
     "execution_count": 18,
     "metadata": {},
     "output_type": "execute_result"
    }
   ],
   "source": [
    "lr.summary()"
   ]
  },
  {
   "cell_type": "markdown",
   "metadata": {},
   "source": [
    "### statsmodels.formula.api"
   ]
  },
  {
   "cell_type": "code",
   "execution_count": 20,
   "metadata": {},
   "outputs": [],
   "source": [
    "form_lr = smf.ols(formula = 'y ~ CRIM + ZN + INDUS + CHAS + NOX + RM + AGE + DIS + RAD + TAX + PTRATIO + B + LSTAT',\n",
    "                 data=df)\n",
    "mlr = form_lr.fit()"
   ]
  },
  {
   "cell_type": "code",
   "execution_count": 21,
   "metadata": {},
   "outputs": [
    {
     "data": {
      "text/html": [
       "<table class=\"simpletable\">\n",
       "<caption>OLS Regression Results</caption>\n",
       "<tr>\n",
       "  <th>Dep. Variable:</th>            <td>y</td>        <th>  R-squared:         </th> <td>   0.741</td> \n",
       "</tr>\n",
       "<tr>\n",
       "  <th>Model:</th>                   <td>OLS</td>       <th>  Adj. R-squared:    </th> <td>   0.734</td> \n",
       "</tr>\n",
       "<tr>\n",
       "  <th>Method:</th>             <td>Least Squares</td>  <th>  F-statistic:       </th> <td>   108.1</td> \n",
       "</tr>\n",
       "<tr>\n",
       "  <th>Date:</th>             <td>Tue, 05 Mar 2019</td> <th>  Prob (F-statistic):</th> <td>6.72e-135</td>\n",
       "</tr>\n",
       "<tr>\n",
       "  <th>Time:</th>                 <td>17:05:26</td>     <th>  Log-Likelihood:    </th> <td> -1498.8</td> \n",
       "</tr>\n",
       "<tr>\n",
       "  <th>No. Observations:</th>      <td>   506</td>      <th>  AIC:               </th> <td>   3026.</td> \n",
       "</tr>\n",
       "<tr>\n",
       "  <th>Df Residuals:</th>          <td>   492</td>      <th>  BIC:               </th> <td>   3085.</td> \n",
       "</tr>\n",
       "<tr>\n",
       "  <th>Df Model:</th>              <td>    13</td>      <th>                     </th>     <td> </td>    \n",
       "</tr>\n",
       "<tr>\n",
       "  <th>Covariance Type:</th>      <td>nonrobust</td>    <th>                     </th>     <td> </td>    \n",
       "</tr>\n",
       "</table>\n",
       "<table class=\"simpletable\">\n",
       "<tr>\n",
       "      <td></td>         <th>coef</th>     <th>std err</th>      <th>t</th>      <th>P>|t|</th>  <th>[0.025</th>    <th>0.975]</th>  \n",
       "</tr>\n",
       "<tr>\n",
       "  <th>Intercept</th> <td>   36.4595</td> <td>    5.103</td> <td>    7.144</td> <td> 0.000</td> <td>   26.432</td> <td>   46.487</td>\n",
       "</tr>\n",
       "<tr>\n",
       "  <th>CRIM</th>      <td>   -0.1080</td> <td>    0.033</td> <td>   -3.287</td> <td> 0.001</td> <td>   -0.173</td> <td>   -0.043</td>\n",
       "</tr>\n",
       "<tr>\n",
       "  <th>ZN</th>        <td>    0.0464</td> <td>    0.014</td> <td>    3.382</td> <td> 0.001</td> <td>    0.019</td> <td>    0.073</td>\n",
       "</tr>\n",
       "<tr>\n",
       "  <th>INDUS</th>     <td>    0.0206</td> <td>    0.061</td> <td>    0.334</td> <td> 0.738</td> <td>   -0.100</td> <td>    0.141</td>\n",
       "</tr>\n",
       "<tr>\n",
       "  <th>CHAS</th>      <td>    2.6867</td> <td>    0.862</td> <td>    3.118</td> <td> 0.002</td> <td>    0.994</td> <td>    4.380</td>\n",
       "</tr>\n",
       "<tr>\n",
       "  <th>NOX</th>       <td>  -17.7666</td> <td>    3.820</td> <td>   -4.651</td> <td> 0.000</td> <td>  -25.272</td> <td>  -10.262</td>\n",
       "</tr>\n",
       "<tr>\n",
       "  <th>RM</th>        <td>    3.8099</td> <td>    0.418</td> <td>    9.116</td> <td> 0.000</td> <td>    2.989</td> <td>    4.631</td>\n",
       "</tr>\n",
       "<tr>\n",
       "  <th>AGE</th>       <td>    0.0007</td> <td>    0.013</td> <td>    0.052</td> <td> 0.958</td> <td>   -0.025</td> <td>    0.027</td>\n",
       "</tr>\n",
       "<tr>\n",
       "  <th>DIS</th>       <td>   -1.4756</td> <td>    0.199</td> <td>   -7.398</td> <td> 0.000</td> <td>   -1.867</td> <td>   -1.084</td>\n",
       "</tr>\n",
       "<tr>\n",
       "  <th>RAD</th>       <td>    0.3060</td> <td>    0.066</td> <td>    4.613</td> <td> 0.000</td> <td>    0.176</td> <td>    0.436</td>\n",
       "</tr>\n",
       "<tr>\n",
       "  <th>TAX</th>       <td>   -0.0123</td> <td>    0.004</td> <td>   -3.280</td> <td> 0.001</td> <td>   -0.020</td> <td>   -0.005</td>\n",
       "</tr>\n",
       "<tr>\n",
       "  <th>PTRATIO</th>   <td>   -0.9527</td> <td>    0.131</td> <td>   -7.283</td> <td> 0.000</td> <td>   -1.210</td> <td>   -0.696</td>\n",
       "</tr>\n",
       "<tr>\n",
       "  <th>B</th>         <td>    0.0093</td> <td>    0.003</td> <td>    3.467</td> <td> 0.001</td> <td>    0.004</td> <td>    0.015</td>\n",
       "</tr>\n",
       "<tr>\n",
       "  <th>LSTAT</th>     <td>   -0.5248</td> <td>    0.051</td> <td>  -10.347</td> <td> 0.000</td> <td>   -0.624</td> <td>   -0.425</td>\n",
       "</tr>\n",
       "</table>\n",
       "<table class=\"simpletable\">\n",
       "<tr>\n",
       "  <th>Omnibus:</th>       <td>178.041</td> <th>  Durbin-Watson:     </th> <td>   1.078</td> \n",
       "</tr>\n",
       "<tr>\n",
       "  <th>Prob(Omnibus):</th> <td> 0.000</td>  <th>  Jarque-Bera (JB):  </th> <td> 783.126</td> \n",
       "</tr>\n",
       "<tr>\n",
       "  <th>Skew:</th>          <td> 1.521</td>  <th>  Prob(JB):          </th> <td>8.84e-171</td>\n",
       "</tr>\n",
       "<tr>\n",
       "  <th>Kurtosis:</th>      <td> 8.281</td>  <th>  Cond. No.          </th> <td>1.51e+04</td> \n",
       "</tr>\n",
       "</table><br/><br/>Warnings:<br/>[1] Standard Errors assume that the covariance matrix of the errors is correctly specified.<br/>[2] The condition number is large, 1.51e+04. This might indicate that there are<br/>strong multicollinearity or other numerical problems."
      ],
      "text/plain": [
       "<class 'statsmodels.iolib.summary.Summary'>\n",
       "\"\"\"\n",
       "                            OLS Regression Results                            \n",
       "==============================================================================\n",
       "Dep. Variable:                      y   R-squared:                       0.741\n",
       "Model:                            OLS   Adj. R-squared:                  0.734\n",
       "Method:                 Least Squares   F-statistic:                     108.1\n",
       "Date:                Tue, 05 Mar 2019   Prob (F-statistic):          6.72e-135\n",
       "Time:                        17:05:26   Log-Likelihood:                -1498.8\n",
       "No. Observations:                 506   AIC:                             3026.\n",
       "Df Residuals:                     492   BIC:                             3085.\n",
       "Df Model:                          13                                         \n",
       "Covariance Type:            nonrobust                                         \n",
       "==============================================================================\n",
       "                 coef    std err          t      P>|t|      [0.025      0.975]\n",
       "------------------------------------------------------------------------------\n",
       "Intercept     36.4595      5.103      7.144      0.000      26.432      46.487\n",
       "CRIM          -0.1080      0.033     -3.287      0.001      -0.173      -0.043\n",
       "ZN             0.0464      0.014      3.382      0.001       0.019       0.073\n",
       "INDUS          0.0206      0.061      0.334      0.738      -0.100       0.141\n",
       "CHAS           2.6867      0.862      3.118      0.002       0.994       4.380\n",
       "NOX          -17.7666      3.820     -4.651      0.000     -25.272     -10.262\n",
       "RM             3.8099      0.418      9.116      0.000       2.989       4.631\n",
       "AGE            0.0007      0.013      0.052      0.958      -0.025       0.027\n",
       "DIS           -1.4756      0.199     -7.398      0.000      -1.867      -1.084\n",
       "RAD            0.3060      0.066      4.613      0.000       0.176       0.436\n",
       "TAX           -0.0123      0.004     -3.280      0.001      -0.020      -0.005\n",
       "PTRATIO       -0.9527      0.131     -7.283      0.000      -1.210      -0.696\n",
       "B              0.0093      0.003      3.467      0.001       0.004       0.015\n",
       "LSTAT         -0.5248      0.051    -10.347      0.000      -0.624      -0.425\n",
       "==============================================================================\n",
       "Omnibus:                      178.041   Durbin-Watson:                   1.078\n",
       "Prob(Omnibus):                  0.000   Jarque-Bera (JB):              783.126\n",
       "Skew:                           1.521   Prob(JB):                    8.84e-171\n",
       "Kurtosis:                       8.281   Cond. No.                     1.51e+04\n",
       "==============================================================================\n",
       "\n",
       "Warnings:\n",
       "[1] Standard Errors assume that the covariance matrix of the errors is correctly specified.\n",
       "[2] The condition number is large, 1.51e+04. This might indicate that there are\n",
       "strong multicollinearity or other numerical problems.\n",
       "\"\"\""
      ]
     },
     "execution_count": 21,
     "metadata": {},
     "output_type": "execute_result"
    }
   ],
   "source": [
    "mlr.summary()"
   ]
  },
  {
   "cell_type": "code",
   "execution_count": 22,
   "metadata": {},
   "outputs": [],
   "source": [
    "#Now all variables up to number of rooms\n",
    "form_lr = smf.ols(formula = 'y ~ CRIM + ZN + INDUS + CHAS + NOX + RM',\n",
    "                 data=df)\n",
    "mlr = form_lr.fit()"
   ]
  },
  {
   "cell_type": "code",
   "execution_count": 23,
   "metadata": {},
   "outputs": [
    {
     "data": {
      "text/html": [
       "<table class=\"simpletable\">\n",
       "<caption>OLS Regression Results</caption>\n",
       "<tr>\n",
       "  <th>Dep. Variable:</th>            <td>y</td>        <th>  R-squared:         </th> <td>   0.587</td>\n",
       "</tr>\n",
       "<tr>\n",
       "  <th>Model:</th>                   <td>OLS</td>       <th>  Adj. R-squared:    </th> <td>   0.582</td>\n",
       "</tr>\n",
       "<tr>\n",
       "  <th>Method:</th>             <td>Least Squares</td>  <th>  F-statistic:       </th> <td>   118.4</td>\n",
       "</tr>\n",
       "<tr>\n",
       "  <th>Date:</th>             <td>Wed, 06 Mar 2019</td> <th>  Prob (F-statistic):</th> <td>1.32e-92</td>\n",
       "</tr>\n",
       "<tr>\n",
       "  <th>Time:</th>                 <td>09:56:42</td>     <th>  Log-Likelihood:    </th> <td> -1616.3</td>\n",
       "</tr>\n",
       "<tr>\n",
       "  <th>No. Observations:</th>      <td>   506</td>      <th>  AIC:               </th> <td>   3247.</td>\n",
       "</tr>\n",
       "<tr>\n",
       "  <th>Df Residuals:</th>          <td>   499</td>      <th>  BIC:               </th> <td>   3276.</td>\n",
       "</tr>\n",
       "<tr>\n",
       "  <th>Df Model:</th>              <td>     6</td>      <th>                     </th>     <td> </td>   \n",
       "</tr>\n",
       "<tr>\n",
       "  <th>Covariance Type:</th>      <td>nonrobust</td>    <th>                     </th>     <td> </td>   \n",
       "</tr>\n",
       "</table>\n",
       "<table class=\"simpletable\">\n",
       "<tr>\n",
       "      <td></td>         <th>coef</th>     <th>std err</th>      <th>t</th>      <th>P>|t|</th>  <th>[0.025</th>    <th>0.975]</th>  \n",
       "</tr>\n",
       "<tr>\n",
       "  <th>Intercept</th> <td>  -17.9546</td> <td>    3.214</td> <td>   -5.587</td> <td> 0.000</td> <td>  -24.269</td> <td>  -11.640</td>\n",
       "</tr>\n",
       "<tr>\n",
       "  <th>CRIM</th>      <td>   -0.1769</td> <td>    0.035</td> <td>   -5.114</td> <td> 0.000</td> <td>   -0.245</td> <td>   -0.109</td>\n",
       "</tr>\n",
       "<tr>\n",
       "  <th>ZN</th>        <td>    0.0213</td> <td>    0.014</td> <td>    1.537</td> <td> 0.125</td> <td>   -0.006</td> <td>    0.048</td>\n",
       "</tr>\n",
       "<tr>\n",
       "  <th>INDUS</th>     <td>   -0.1437</td> <td>    0.064</td> <td>   -2.247</td> <td> 0.025</td> <td>   -0.269</td> <td>   -0.018</td>\n",
       "</tr>\n",
       "<tr>\n",
       "  <th>CHAS</th>      <td>    4.7847</td> <td>    1.059</td> <td>    4.518</td> <td> 0.000</td> <td>    2.704</td> <td>    6.866</td>\n",
       "</tr>\n",
       "<tr>\n",
       "  <th>NOX</th>       <td>   -7.1849</td> <td>    3.694</td> <td>   -1.945</td> <td> 0.052</td> <td>  -14.442</td> <td>    0.072</td>\n",
       "</tr>\n",
       "<tr>\n",
       "  <th>RM</th>        <td>    7.3416</td> <td>    0.417</td> <td>   17.597</td> <td> 0.000</td> <td>    6.522</td> <td>    8.161</td>\n",
       "</tr>\n",
       "</table>\n",
       "<table class=\"simpletable\">\n",
       "<tr>\n",
       "  <th>Omnibus:</th>       <td>218.887</td> <th>  Durbin-Watson:     </th> <td>   0.850</td>\n",
       "</tr>\n",
       "<tr>\n",
       "  <th>Prob(Omnibus):</th> <td> 0.000</td>  <th>  Jarque-Bera (JB):  </th> <td>1532.877</td>\n",
       "</tr>\n",
       "<tr>\n",
       "  <th>Skew:</th>          <td> 1.738</td>  <th>  Prob(JB):          </th> <td>    0.00</td>\n",
       "</tr>\n",
       "<tr>\n",
       "  <th>Kurtosis:</th>      <td>10.786</td>  <th>  Cond. No.          </th> <td>    420.</td>\n",
       "</tr>\n",
       "</table><br/><br/>Warnings:<br/>[1] Standard Errors assume that the covariance matrix of the errors is correctly specified."
      ],
      "text/plain": [
       "<class 'statsmodels.iolib.summary.Summary'>\n",
       "\"\"\"\n",
       "                            OLS Regression Results                            \n",
       "==============================================================================\n",
       "Dep. Variable:                      y   R-squared:                       0.587\n",
       "Model:                            OLS   Adj. R-squared:                  0.582\n",
       "Method:                 Least Squares   F-statistic:                     118.4\n",
       "Date:                Wed, 06 Mar 2019   Prob (F-statistic):           1.32e-92\n",
       "Time:                        09:56:42   Log-Likelihood:                -1616.3\n",
       "No. Observations:                 506   AIC:                             3247.\n",
       "Df Residuals:                     499   BIC:                             3276.\n",
       "Df Model:                           6                                         \n",
       "Covariance Type:            nonrobust                                         \n",
       "==============================================================================\n",
       "                 coef    std err          t      P>|t|      [0.025      0.975]\n",
       "------------------------------------------------------------------------------\n",
       "Intercept    -17.9546      3.214     -5.587      0.000     -24.269     -11.640\n",
       "CRIM          -0.1769      0.035     -5.114      0.000      -0.245      -0.109\n",
       "ZN             0.0213      0.014      1.537      0.125      -0.006       0.048\n",
       "INDUS         -0.1437      0.064     -2.247      0.025      -0.269      -0.018\n",
       "CHAS           4.7847      1.059      4.518      0.000       2.704       6.866\n",
       "NOX           -7.1849      3.694     -1.945      0.052     -14.442       0.072\n",
       "RM             7.3416      0.417     17.597      0.000       6.522       8.161\n",
       "==============================================================================\n",
       "Omnibus:                      218.887   Durbin-Watson:                   0.850\n",
       "Prob(Omnibus):                  0.000   Jarque-Bera (JB):             1532.877\n",
       "Skew:                           1.738   Prob(JB):                         0.00\n",
       "Kurtosis:                      10.786   Cond. No.                         420.\n",
       "==============================================================================\n",
       "\n",
       "Warnings:\n",
       "[1] Standard Errors assume that the covariance matrix of the errors is correctly specified.\n",
       "\"\"\""
      ]
     },
     "execution_count": 23,
     "metadata": {},
     "output_type": "execute_result"
    }
   ],
   "source": [
    "mlr.summary()"
   ]
  },
  {
   "cell_type": "markdown",
   "metadata": {},
   "source": [
    "***"
   ]
  },
  {
   "cell_type": "markdown",
   "metadata": {},
   "source": [
    "## Multicollinearity"
   ]
  },
  {
   "cell_type": "markdown",
   "metadata": {},
   "source": [
    "### Correlation Matrix\n",
    "Useful diagnostic tool to identify multicolinearity"
   ]
  },
  {
   "cell_type": "code",
   "execution_count": 24,
   "metadata": {},
   "outputs": [
    {
     "data": {
      "text/html": [
       "<div>\n",
       "<style scoped>\n",
       "    .dataframe tbody tr th:only-of-type {\n",
       "        vertical-align: middle;\n",
       "    }\n",
       "\n",
       "    .dataframe tbody tr th {\n",
       "        vertical-align: top;\n",
       "    }\n",
       "\n",
       "    .dataframe thead th {\n",
       "        text-align: right;\n",
       "    }\n",
       "</style>\n",
       "<table border=\"1\" class=\"dataframe\">\n",
       "  <thead>\n",
       "    <tr style=\"text-align: right;\">\n",
       "      <th></th>\n",
       "      <th>CRIM</th>\n",
       "      <th>ZN</th>\n",
       "      <th>INDUS</th>\n",
       "      <th>CHAS</th>\n",
       "      <th>NOX</th>\n",
       "      <th>RM</th>\n",
       "      <th>AGE</th>\n",
       "      <th>DIS</th>\n",
       "      <th>RAD</th>\n",
       "      <th>TAX</th>\n",
       "      <th>PTRATIO</th>\n",
       "      <th>B</th>\n",
       "      <th>LSTAT</th>\n",
       "    </tr>\n",
       "  </thead>\n",
       "  <tbody>\n",
       "    <tr>\n",
       "      <th>CRIM</th>\n",
       "      <td>1.0000</td>\n",
       "      <td>-0.2005</td>\n",
       "      <td>0.4066</td>\n",
       "      <td>-0.0559</td>\n",
       "      <td>0.4210</td>\n",
       "      <td>-0.2192</td>\n",
       "      <td>0.3527</td>\n",
       "      <td>-0.3797</td>\n",
       "      <td>0.6255</td>\n",
       "      <td>0.5828</td>\n",
       "      <td>0.2899</td>\n",
       "      <td>-0.3851</td>\n",
       "      <td>0.4556</td>\n",
       "    </tr>\n",
       "    <tr>\n",
       "      <th>ZN</th>\n",
       "      <td>-0.2005</td>\n",
       "      <td>1.0000</td>\n",
       "      <td>-0.5338</td>\n",
       "      <td>-0.0427</td>\n",
       "      <td>-0.5166</td>\n",
       "      <td>0.3120</td>\n",
       "      <td>-0.5695</td>\n",
       "      <td>0.6644</td>\n",
       "      <td>-0.3119</td>\n",
       "      <td>-0.3146</td>\n",
       "      <td>-0.3917</td>\n",
       "      <td>0.1755</td>\n",
       "      <td>-0.4130</td>\n",
       "    </tr>\n",
       "    <tr>\n",
       "      <th>INDUS</th>\n",
       "      <td>0.4066</td>\n",
       "      <td>-0.5338</td>\n",
       "      <td>1.0000</td>\n",
       "      <td>0.0629</td>\n",
       "      <td>0.7637</td>\n",
       "      <td>-0.3917</td>\n",
       "      <td>0.6448</td>\n",
       "      <td>-0.7080</td>\n",
       "      <td>0.5951</td>\n",
       "      <td>0.7208</td>\n",
       "      <td>0.3832</td>\n",
       "      <td>-0.3570</td>\n",
       "      <td>0.6038</td>\n",
       "    </tr>\n",
       "    <tr>\n",
       "      <th>CHAS</th>\n",
       "      <td>-0.0559</td>\n",
       "      <td>-0.0427</td>\n",
       "      <td>0.0629</td>\n",
       "      <td>1.0000</td>\n",
       "      <td>0.0912</td>\n",
       "      <td>0.0913</td>\n",
       "      <td>0.0865</td>\n",
       "      <td>-0.0992</td>\n",
       "      <td>-0.0074</td>\n",
       "      <td>-0.0356</td>\n",
       "      <td>-0.1215</td>\n",
       "      <td>0.0488</td>\n",
       "      <td>-0.0539</td>\n",
       "    </tr>\n",
       "    <tr>\n",
       "      <th>NOX</th>\n",
       "      <td>0.4210</td>\n",
       "      <td>-0.5166</td>\n",
       "      <td>0.7637</td>\n",
       "      <td>0.0912</td>\n",
       "      <td>1.0000</td>\n",
       "      <td>-0.3022</td>\n",
       "      <td>0.7315</td>\n",
       "      <td>-0.7692</td>\n",
       "      <td>0.6114</td>\n",
       "      <td>0.6680</td>\n",
       "      <td>0.1889</td>\n",
       "      <td>-0.3801</td>\n",
       "      <td>0.5909</td>\n",
       "    </tr>\n",
       "    <tr>\n",
       "      <th>RM</th>\n",
       "      <td>-0.2192</td>\n",
       "      <td>0.3120</td>\n",
       "      <td>-0.3917</td>\n",
       "      <td>0.0913</td>\n",
       "      <td>-0.3022</td>\n",
       "      <td>1.0000</td>\n",
       "      <td>-0.2403</td>\n",
       "      <td>0.2052</td>\n",
       "      <td>-0.2098</td>\n",
       "      <td>-0.2920</td>\n",
       "      <td>-0.3555</td>\n",
       "      <td>0.1281</td>\n",
       "      <td>-0.6138</td>\n",
       "    </tr>\n",
       "    <tr>\n",
       "      <th>AGE</th>\n",
       "      <td>0.3527</td>\n",
       "      <td>-0.5695</td>\n",
       "      <td>0.6448</td>\n",
       "      <td>0.0865</td>\n",
       "      <td>0.7315</td>\n",
       "      <td>-0.2403</td>\n",
       "      <td>1.0000</td>\n",
       "      <td>-0.7479</td>\n",
       "      <td>0.4560</td>\n",
       "      <td>0.5065</td>\n",
       "      <td>0.2615</td>\n",
       "      <td>-0.2735</td>\n",
       "      <td>0.6023</td>\n",
       "    </tr>\n",
       "    <tr>\n",
       "      <th>DIS</th>\n",
       "      <td>-0.3797</td>\n",
       "      <td>0.6644</td>\n",
       "      <td>-0.7080</td>\n",
       "      <td>-0.0992</td>\n",
       "      <td>-0.7692</td>\n",
       "      <td>0.2052</td>\n",
       "      <td>-0.7479</td>\n",
       "      <td>1.0000</td>\n",
       "      <td>-0.4946</td>\n",
       "      <td>-0.5344</td>\n",
       "      <td>-0.2325</td>\n",
       "      <td>0.2915</td>\n",
       "      <td>-0.4970</td>\n",
       "    </tr>\n",
       "    <tr>\n",
       "      <th>RAD</th>\n",
       "      <td>0.6255</td>\n",
       "      <td>-0.3119</td>\n",
       "      <td>0.5951</td>\n",
       "      <td>-0.0074</td>\n",
       "      <td>0.6114</td>\n",
       "      <td>-0.2098</td>\n",
       "      <td>0.4560</td>\n",
       "      <td>-0.4946</td>\n",
       "      <td>1.0000</td>\n",
       "      <td>0.9102</td>\n",
       "      <td>0.4647</td>\n",
       "      <td>-0.4444</td>\n",
       "      <td>0.4887</td>\n",
       "    </tr>\n",
       "    <tr>\n",
       "      <th>TAX</th>\n",
       "      <td>0.5828</td>\n",
       "      <td>-0.3146</td>\n",
       "      <td>0.7208</td>\n",
       "      <td>-0.0356</td>\n",
       "      <td>0.6680</td>\n",
       "      <td>-0.2920</td>\n",
       "      <td>0.5065</td>\n",
       "      <td>-0.5344</td>\n",
       "      <td>0.9102</td>\n",
       "      <td>1.0000</td>\n",
       "      <td>0.4609</td>\n",
       "      <td>-0.4418</td>\n",
       "      <td>0.5440</td>\n",
       "    </tr>\n",
       "    <tr>\n",
       "      <th>PTRATIO</th>\n",
       "      <td>0.2899</td>\n",
       "      <td>-0.3917</td>\n",
       "      <td>0.3832</td>\n",
       "      <td>-0.1215</td>\n",
       "      <td>0.1889</td>\n",
       "      <td>-0.3555</td>\n",
       "      <td>0.2615</td>\n",
       "      <td>-0.2325</td>\n",
       "      <td>0.4647</td>\n",
       "      <td>0.4609</td>\n",
       "      <td>1.0000</td>\n",
       "      <td>-0.1774</td>\n",
       "      <td>0.3740</td>\n",
       "    </tr>\n",
       "    <tr>\n",
       "      <th>B</th>\n",
       "      <td>-0.3851</td>\n",
       "      <td>0.1755</td>\n",
       "      <td>-0.3570</td>\n",
       "      <td>0.0488</td>\n",
       "      <td>-0.3801</td>\n",
       "      <td>0.1281</td>\n",
       "      <td>-0.2735</td>\n",
       "      <td>0.2915</td>\n",
       "      <td>-0.4444</td>\n",
       "      <td>-0.4418</td>\n",
       "      <td>-0.1774</td>\n",
       "      <td>1.0000</td>\n",
       "      <td>-0.3661</td>\n",
       "    </tr>\n",
       "    <tr>\n",
       "      <th>LSTAT</th>\n",
       "      <td>0.4556</td>\n",
       "      <td>-0.4130</td>\n",
       "      <td>0.6038</td>\n",
       "      <td>-0.0539</td>\n",
       "      <td>0.5909</td>\n",
       "      <td>-0.6138</td>\n",
       "      <td>0.6023</td>\n",
       "      <td>-0.4970</td>\n",
       "      <td>0.4887</td>\n",
       "      <td>0.5440</td>\n",
       "      <td>0.3740</td>\n",
       "      <td>-0.3661</td>\n",
       "      <td>1.0000</td>\n",
       "    </tr>\n",
       "  </tbody>\n",
       "</table>\n",
       "</div>"
      ],
      "text/plain": [
       "           CRIM      ZN   INDUS    CHAS     NOX      RM     AGE     DIS  \\\n",
       "CRIM     1.0000 -0.2005  0.4066 -0.0559  0.4210 -0.2192  0.3527 -0.3797   \n",
       "ZN      -0.2005  1.0000 -0.5338 -0.0427 -0.5166  0.3120 -0.5695  0.6644   \n",
       "INDUS    0.4066 -0.5338  1.0000  0.0629  0.7637 -0.3917  0.6448 -0.7080   \n",
       "CHAS    -0.0559 -0.0427  0.0629  1.0000  0.0912  0.0913  0.0865 -0.0992   \n",
       "NOX      0.4210 -0.5166  0.7637  0.0912  1.0000 -0.3022  0.7315 -0.7692   \n",
       "RM      -0.2192  0.3120 -0.3917  0.0913 -0.3022  1.0000 -0.2403  0.2052   \n",
       "AGE      0.3527 -0.5695  0.6448  0.0865  0.7315 -0.2403  1.0000 -0.7479   \n",
       "DIS     -0.3797  0.6644 -0.7080 -0.0992 -0.7692  0.2052 -0.7479  1.0000   \n",
       "RAD      0.6255 -0.3119  0.5951 -0.0074  0.6114 -0.2098  0.4560 -0.4946   \n",
       "TAX      0.5828 -0.3146  0.7208 -0.0356  0.6680 -0.2920  0.5065 -0.5344   \n",
       "PTRATIO  0.2899 -0.3917  0.3832 -0.1215  0.1889 -0.3555  0.2615 -0.2325   \n",
       "B       -0.3851  0.1755 -0.3570  0.0488 -0.3801  0.1281 -0.2735  0.2915   \n",
       "LSTAT    0.4556 -0.4130  0.6038 -0.0539  0.5909 -0.6138  0.6023 -0.4970   \n",
       "\n",
       "            RAD     TAX  PTRATIO       B   LSTAT  \n",
       "CRIM     0.6255  0.5828   0.2899 -0.3851  0.4556  \n",
       "ZN      -0.3119 -0.3146  -0.3917  0.1755 -0.4130  \n",
       "INDUS    0.5951  0.7208   0.3832 -0.3570  0.6038  \n",
       "CHAS    -0.0074 -0.0356  -0.1215  0.0488 -0.0539  \n",
       "NOX      0.6114  0.6680   0.1889 -0.3801  0.5909  \n",
       "RM      -0.2098 -0.2920  -0.3555  0.1281 -0.6138  \n",
       "AGE      0.4560  0.5065   0.2615 -0.2735  0.6023  \n",
       "DIS     -0.4946 -0.5344  -0.2325  0.2915 -0.4970  \n",
       "RAD      1.0000  0.9102   0.4647 -0.4444  0.4887  \n",
       "TAX      0.9102  1.0000   0.4609 -0.4418  0.5440  \n",
       "PTRATIO  0.4647  0.4609   1.0000 -0.1774  0.3740  \n",
       "B       -0.4444 -0.4418  -0.1774  1.0000 -0.3661  \n",
       "LSTAT    0.4887  0.5440   0.3740 -0.3661  1.0000  "
      ]
     },
     "execution_count": 24,
     "metadata": {},
     "output_type": "execute_result"
    }
   ],
   "source": [
    "pd.options.display.float_format = '{:,.4f}'.format\n",
    "corr_matrix = df.corr()\n",
    "corr_matrix"
   ]
  },
  {
   "cell_type": "code",
   "execution_count": 25,
   "metadata": {},
   "outputs": [
    {
     "data": {
      "text/html": [
       "<div>\n",
       "<style scoped>\n",
       "    .dataframe tbody tr th:only-of-type {\n",
       "        vertical-align: middle;\n",
       "    }\n",
       "\n",
       "    .dataframe tbody tr th {\n",
       "        vertical-align: top;\n",
       "    }\n",
       "\n",
       "    .dataframe thead th {\n",
       "        text-align: right;\n",
       "    }\n",
       "</style>\n",
       "<table border=\"1\" class=\"dataframe\">\n",
       "  <thead>\n",
       "    <tr style=\"text-align: right;\">\n",
       "      <th></th>\n",
       "      <th>CRIM</th>\n",
       "      <th>ZN</th>\n",
       "      <th>INDUS</th>\n",
       "      <th>CHAS</th>\n",
       "      <th>NOX</th>\n",
       "      <th>RM</th>\n",
       "      <th>AGE</th>\n",
       "      <th>DIS</th>\n",
       "      <th>RAD</th>\n",
       "      <th>TAX</th>\n",
       "      <th>PTRATIO</th>\n",
       "      <th>B</th>\n",
       "      <th>LSTAT</th>\n",
       "    </tr>\n",
       "  </thead>\n",
       "  <tbody>\n",
       "    <tr>\n",
       "      <th>CRIM</th>\n",
       "      <td>1.0000</td>\n",
       "      <td>0.0000</td>\n",
       "      <td>0.0000</td>\n",
       "      <td>0.0000</td>\n",
       "      <td>0.0000</td>\n",
       "      <td>0.0000</td>\n",
       "      <td>0.0000</td>\n",
       "      <td>0.0000</td>\n",
       "      <td>0.6255</td>\n",
       "      <td>0.0000</td>\n",
       "      <td>0.0000</td>\n",
       "      <td>0.0000</td>\n",
       "      <td>0.0000</td>\n",
       "    </tr>\n",
       "    <tr>\n",
       "      <th>ZN</th>\n",
       "      <td>0.0000</td>\n",
       "      <td>1.0000</td>\n",
       "      <td>0.0000</td>\n",
       "      <td>0.0000</td>\n",
       "      <td>0.0000</td>\n",
       "      <td>0.0000</td>\n",
       "      <td>0.0000</td>\n",
       "      <td>0.6644</td>\n",
       "      <td>0.0000</td>\n",
       "      <td>0.0000</td>\n",
       "      <td>0.0000</td>\n",
       "      <td>0.0000</td>\n",
       "      <td>0.0000</td>\n",
       "    </tr>\n",
       "    <tr>\n",
       "      <th>INDUS</th>\n",
       "      <td>0.0000</td>\n",
       "      <td>0.0000</td>\n",
       "      <td>1.0000</td>\n",
       "      <td>0.0000</td>\n",
       "      <td>0.7637</td>\n",
       "      <td>0.0000</td>\n",
       "      <td>0.6448</td>\n",
       "      <td>-0.7080</td>\n",
       "      <td>0.0000</td>\n",
       "      <td>0.7208</td>\n",
       "      <td>0.0000</td>\n",
       "      <td>0.0000</td>\n",
       "      <td>0.6038</td>\n",
       "    </tr>\n",
       "    <tr>\n",
       "      <th>CHAS</th>\n",
       "      <td>0.0000</td>\n",
       "      <td>0.0000</td>\n",
       "      <td>0.0000</td>\n",
       "      <td>1.0000</td>\n",
       "      <td>0.0000</td>\n",
       "      <td>0.0000</td>\n",
       "      <td>0.0000</td>\n",
       "      <td>0.0000</td>\n",
       "      <td>0.0000</td>\n",
       "      <td>0.0000</td>\n",
       "      <td>0.0000</td>\n",
       "      <td>0.0000</td>\n",
       "      <td>0.0000</td>\n",
       "    </tr>\n",
       "    <tr>\n",
       "      <th>NOX</th>\n",
       "      <td>0.0000</td>\n",
       "      <td>0.0000</td>\n",
       "      <td>0.7637</td>\n",
       "      <td>0.0000</td>\n",
       "      <td>1.0000</td>\n",
       "      <td>0.0000</td>\n",
       "      <td>0.7315</td>\n",
       "      <td>-0.7692</td>\n",
       "      <td>0.6114</td>\n",
       "      <td>0.6680</td>\n",
       "      <td>0.0000</td>\n",
       "      <td>0.0000</td>\n",
       "      <td>0.0000</td>\n",
       "    </tr>\n",
       "    <tr>\n",
       "      <th>RM</th>\n",
       "      <td>0.0000</td>\n",
       "      <td>0.0000</td>\n",
       "      <td>0.0000</td>\n",
       "      <td>0.0000</td>\n",
       "      <td>0.0000</td>\n",
       "      <td>1.0000</td>\n",
       "      <td>0.0000</td>\n",
       "      <td>0.0000</td>\n",
       "      <td>0.0000</td>\n",
       "      <td>0.0000</td>\n",
       "      <td>0.0000</td>\n",
       "      <td>0.0000</td>\n",
       "      <td>-0.6138</td>\n",
       "    </tr>\n",
       "    <tr>\n",
       "      <th>AGE</th>\n",
       "      <td>0.0000</td>\n",
       "      <td>0.0000</td>\n",
       "      <td>0.6448</td>\n",
       "      <td>0.0000</td>\n",
       "      <td>0.7315</td>\n",
       "      <td>0.0000</td>\n",
       "      <td>1.0000</td>\n",
       "      <td>-0.7479</td>\n",
       "      <td>0.0000</td>\n",
       "      <td>0.0000</td>\n",
       "      <td>0.0000</td>\n",
       "      <td>0.0000</td>\n",
       "      <td>0.6023</td>\n",
       "    </tr>\n",
       "    <tr>\n",
       "      <th>DIS</th>\n",
       "      <td>0.0000</td>\n",
       "      <td>0.6644</td>\n",
       "      <td>-0.7080</td>\n",
       "      <td>0.0000</td>\n",
       "      <td>-0.7692</td>\n",
       "      <td>0.0000</td>\n",
       "      <td>-0.7479</td>\n",
       "      <td>1.0000</td>\n",
       "      <td>0.0000</td>\n",
       "      <td>0.0000</td>\n",
       "      <td>0.0000</td>\n",
       "      <td>0.0000</td>\n",
       "      <td>0.0000</td>\n",
       "    </tr>\n",
       "    <tr>\n",
       "      <th>RAD</th>\n",
       "      <td>0.6255</td>\n",
       "      <td>0.0000</td>\n",
       "      <td>0.0000</td>\n",
       "      <td>0.0000</td>\n",
       "      <td>0.6114</td>\n",
       "      <td>0.0000</td>\n",
       "      <td>0.0000</td>\n",
       "      <td>0.0000</td>\n",
       "      <td>1.0000</td>\n",
       "      <td>0.9102</td>\n",
       "      <td>0.0000</td>\n",
       "      <td>0.0000</td>\n",
       "      <td>0.0000</td>\n",
       "    </tr>\n",
       "    <tr>\n",
       "      <th>TAX</th>\n",
       "      <td>0.0000</td>\n",
       "      <td>0.0000</td>\n",
       "      <td>0.7208</td>\n",
       "      <td>0.0000</td>\n",
       "      <td>0.6680</td>\n",
       "      <td>0.0000</td>\n",
       "      <td>0.0000</td>\n",
       "      <td>0.0000</td>\n",
       "      <td>0.9102</td>\n",
       "      <td>1.0000</td>\n",
       "      <td>0.0000</td>\n",
       "      <td>0.0000</td>\n",
       "      <td>0.0000</td>\n",
       "    </tr>\n",
       "    <tr>\n",
       "      <th>PTRATIO</th>\n",
       "      <td>0.0000</td>\n",
       "      <td>0.0000</td>\n",
       "      <td>0.0000</td>\n",
       "      <td>0.0000</td>\n",
       "      <td>0.0000</td>\n",
       "      <td>0.0000</td>\n",
       "      <td>0.0000</td>\n",
       "      <td>0.0000</td>\n",
       "      <td>0.0000</td>\n",
       "      <td>0.0000</td>\n",
       "      <td>1.0000</td>\n",
       "      <td>0.0000</td>\n",
       "      <td>0.0000</td>\n",
       "    </tr>\n",
       "    <tr>\n",
       "      <th>B</th>\n",
       "      <td>0.0000</td>\n",
       "      <td>0.0000</td>\n",
       "      <td>0.0000</td>\n",
       "      <td>0.0000</td>\n",
       "      <td>0.0000</td>\n",
       "      <td>0.0000</td>\n",
       "      <td>0.0000</td>\n",
       "      <td>0.0000</td>\n",
       "      <td>0.0000</td>\n",
       "      <td>0.0000</td>\n",
       "      <td>0.0000</td>\n",
       "      <td>1.0000</td>\n",
       "      <td>0.0000</td>\n",
       "    </tr>\n",
       "    <tr>\n",
       "      <th>LSTAT</th>\n",
       "      <td>0.0000</td>\n",
       "      <td>0.0000</td>\n",
       "      <td>0.6038</td>\n",
       "      <td>0.0000</td>\n",
       "      <td>0.0000</td>\n",
       "      <td>-0.6138</td>\n",
       "      <td>0.6023</td>\n",
       "      <td>0.0000</td>\n",
       "      <td>0.0000</td>\n",
       "      <td>0.0000</td>\n",
       "      <td>0.0000</td>\n",
       "      <td>0.0000</td>\n",
       "      <td>1.0000</td>\n",
       "    </tr>\n",
       "  </tbody>\n",
       "</table>\n",
       "</div>"
      ],
      "text/plain": [
       "          CRIM     ZN   INDUS   CHAS     NOX      RM     AGE     DIS    RAD  \\\n",
       "CRIM    1.0000 0.0000  0.0000 0.0000  0.0000  0.0000  0.0000  0.0000 0.6255   \n",
       "ZN      0.0000 1.0000  0.0000 0.0000  0.0000  0.0000  0.0000  0.6644 0.0000   \n",
       "INDUS   0.0000 0.0000  1.0000 0.0000  0.7637  0.0000  0.6448 -0.7080 0.0000   \n",
       "CHAS    0.0000 0.0000  0.0000 1.0000  0.0000  0.0000  0.0000  0.0000 0.0000   \n",
       "NOX     0.0000 0.0000  0.7637 0.0000  1.0000  0.0000  0.7315 -0.7692 0.6114   \n",
       "RM      0.0000 0.0000  0.0000 0.0000  0.0000  1.0000  0.0000  0.0000 0.0000   \n",
       "AGE     0.0000 0.0000  0.6448 0.0000  0.7315  0.0000  1.0000 -0.7479 0.0000   \n",
       "DIS     0.0000 0.6644 -0.7080 0.0000 -0.7692  0.0000 -0.7479  1.0000 0.0000   \n",
       "RAD     0.6255 0.0000  0.0000 0.0000  0.6114  0.0000  0.0000  0.0000 1.0000   \n",
       "TAX     0.0000 0.0000  0.7208 0.0000  0.6680  0.0000  0.0000  0.0000 0.9102   \n",
       "PTRATIO 0.0000 0.0000  0.0000 0.0000  0.0000  0.0000  0.0000  0.0000 0.0000   \n",
       "B       0.0000 0.0000  0.0000 0.0000  0.0000  0.0000  0.0000  0.0000 0.0000   \n",
       "LSTAT   0.0000 0.0000  0.6038 0.0000  0.0000 -0.6138  0.6023  0.0000 0.0000   \n",
       "\n",
       "           TAX  PTRATIO      B   LSTAT  \n",
       "CRIM    0.0000   0.0000 0.0000  0.0000  \n",
       "ZN      0.0000   0.0000 0.0000  0.0000  \n",
       "INDUS   0.7208   0.0000 0.0000  0.6038  \n",
       "CHAS    0.0000   0.0000 0.0000  0.0000  \n",
       "NOX     0.6680   0.0000 0.0000  0.0000  \n",
       "RM      0.0000   0.0000 0.0000 -0.6138  \n",
       "AGE     0.0000   0.0000 0.0000  0.6023  \n",
       "DIS     0.0000   0.0000 0.0000  0.0000  \n",
       "RAD     0.9102   0.0000 0.0000  0.0000  \n",
       "TAX     1.0000   0.0000 0.0000  0.0000  \n",
       "PTRATIO 0.0000   1.0000 0.0000  0.0000  \n",
       "B       0.0000   0.0000 1.0000  0.0000  \n",
       "LSTAT   0.0000   0.0000 0.0000  1.0000  "
      ]
     },
     "execution_count": 25,
     "metadata": {},
     "output_type": "execute_result"
    }
   ],
   "source": [
    "corr_matrix[np.abs(corr_matrix) < 0.6] = 0\n",
    "corr_matrix"
   ]
  },
  {
   "cell_type": "code",
   "execution_count": 27,
   "metadata": {},
   "outputs": [
    {
     "data": {
      "image/png": "[encoded data removed]",
      "text/plain": [
       "<Figure size 1152x720 with 2 Axes>"
      ]
     },
     "metadata": {
      "needs_background": "light"
     },
     "output_type": "display_data"
    }
   ],
   "source": [
    "plt.figure(figsize=(16,10))\n",
    "sns.heatmap(corr_matrix, annot=True, cmap='YlGnBu')\n",
    "plt.show()"
   ]
  },
  {
   "cell_type": "markdown",
   "metadata": {},
   "source": [
    "### Detecting Collinearity with Eigenvectors"
   ]
  },
  {
   "cell_type": "code",
   "execution_count": 28,
   "metadata": {},
   "outputs": [],
   "source": [
    "eigenvalues, eigenvectors = np.linalg.eig(df.corr())"
   ]
  },
  {
   "cell_type": "code",
   "execution_count": 29,
   "metadata": {},
   "outputs": [
    {
     "data": {
      "text/plain": [
       "8    0.0635\n",
       "10   0.1693\n",
       "11   0.1860\n",
       "12   0.2202\n",
       "9    0.2769\n",
       "7    0.3961\n",
       "6    0.5354\n",
       "5    0.6574\n",
       "4    0.8348\n",
       "3    0.8576\n",
       "2    1.2426\n",
       "1    1.4333\n",
       "0    6.1268\n",
       "dtype: float64"
      ]
     },
     "execution_count": 29,
     "metadata": {},
     "output_type": "execute_result"
    }
   ],
   "source": [
    "pd.Series(eigenvalues).sort_values()"
   ]
  },
  {
   "cell_type": "markdown",
   "metadata": {},
   "source": [
    "Note that eigenvalue 8 is very small. Eigen values near 0 or that are very small compared to the others. This represents the presence of collinearity."
   ]
  },
  {
   "cell_type": "code",
   "execution_count": 30,
   "metadata": {},
   "outputs": [
    {
     "data": {
      "text/plain": [
       "9    0.7202\n",
       "8    0.6335\n",
       "2    0.2511\n",
       "1    0.0809\n",
       "0    0.0460\n",
       "5    0.0456\n",
       "4    0.0436\n",
       "6    0.0386\n",
       "3    0.0359\n",
       "12   0.0244\n",
       "10   0.0234\n",
       "7    0.0183\n",
       "11   0.0045\n",
       "dtype: float64"
      ]
     },
     "execution_count": 30,
     "metadata": {},
     "output_type": "execute_result"
    }
   ],
   "source": [
    "np.abs(pd.Series(eigenvectors[:,8])).sort_values(ascending=False)"
   ]
  },
  {
   "cell_type": "markdown",
   "metadata": {},
   "source": [
    "Eigenvectors with index 9, 8, and 2 have very high loadings when compared to the rest."
   ]
  },
  {
   "cell_type": "code",
   "execution_count": 34,
   "metadata": {},
   "outputs": [
    {
     "name": "stdout",
     "output_type": "stream",
     "text": [
      "Index(['INDUS', 'RAD', 'TAX'], dtype='object')\n"
     ]
    }
   ],
   "source": [
    "print(df.columns[[2,8,9]])"
   ]
  },
  {
   "cell_type": "markdown",
   "metadata": {},
   "source": [
    "These are the factors that are causing multicollinearity problems.\n",
    "***"
   ]
  },
  {
   "cell_type": "markdown",
   "metadata": {},
   "source": [
    "## Revisiting Feature Importance and Extractions\n",
    "\n",
    "Check:\n",
    "    1. Direction of coefficient\n",
    "    2. Impact of the variable/factor on the model"
   ]
  },
  {
   "cell_type": "markdown",
   "metadata": {},
   "source": [
    "### Standardize Variable to Identify Key Feature(s)\n",
    "In order to do step 2 from above, need to have standardized variables"
   ]
  },
  {
   "cell_type": "code",
   "execution_count": 40,
   "metadata": {},
   "outputs": [
    {
     "data": {
      "text/html": [
       "<div>\n",
       "<style scoped>\n",
       "    .dataframe tbody tr th:only-of-type {\n",
       "        vertical-align: middle;\n",
       "    }\n",
       "\n",
       "    .dataframe tbody tr th {\n",
       "        vertical-align: top;\n",
       "    }\n",
       "\n",
       "    .dataframe thead th {\n",
       "        text-align: right;\n",
       "    }\n",
       "</style>\n",
       "<table border=\"1\" class=\"dataframe\">\n",
       "  <thead>\n",
       "    <tr style=\"text-align: right;\">\n",
       "      <th></th>\n",
       "      <th>CRIM</th>\n",
       "      <th>ZN</th>\n",
       "      <th>INDUS</th>\n",
       "      <th>CHAS</th>\n",
       "      <th>NOX</th>\n",
       "      <th>RM</th>\n",
       "      <th>AGE</th>\n",
       "      <th>DIS</th>\n",
       "      <th>RAD</th>\n",
       "      <th>TAX</th>\n",
       "      <th>PTRATIO</th>\n",
       "      <th>B</th>\n",
       "      <th>LSTAT</th>\n",
       "    </tr>\n",
       "  </thead>\n",
       "  <tbody>\n",
       "    <tr>\n",
       "      <th>0</th>\n",
       "      <td>0.0063</td>\n",
       "      <td>18.0000</td>\n",
       "      <td>2.3100</td>\n",
       "      <td>0.0000</td>\n",
       "      <td>0.5380</td>\n",
       "      <td>6.5750</td>\n",
       "      <td>65.2000</td>\n",
       "      <td>4.0900</td>\n",
       "      <td>1.0000</td>\n",
       "      <td>296.0000</td>\n",
       "      <td>15.3000</td>\n",
       "      <td>396.9000</td>\n",
       "      <td>4.9800</td>\n",
       "    </tr>\n",
       "    <tr>\n",
       "      <th>1</th>\n",
       "      <td>0.0273</td>\n",
       "      <td>0.0000</td>\n",
       "      <td>7.0700</td>\n",
       "      <td>0.0000</td>\n",
       "      <td>0.4690</td>\n",
       "      <td>6.4210</td>\n",
       "      <td>78.9000</td>\n",
       "      <td>4.9671</td>\n",
       "      <td>2.0000</td>\n",
       "      <td>242.0000</td>\n",
       "      <td>17.8000</td>\n",
       "      <td>396.9000</td>\n",
       "      <td>9.1400</td>\n",
       "    </tr>\n",
       "    <tr>\n",
       "      <th>2</th>\n",
       "      <td>0.0273</td>\n",
       "      <td>0.0000</td>\n",
       "      <td>7.0700</td>\n",
       "      <td>0.0000</td>\n",
       "      <td>0.4690</td>\n",
       "      <td>7.1850</td>\n",
       "      <td>61.1000</td>\n",
       "      <td>4.9671</td>\n",
       "      <td>2.0000</td>\n",
       "      <td>242.0000</td>\n",
       "      <td>17.8000</td>\n",
       "      <td>392.8300</td>\n",
       "      <td>4.0300</td>\n",
       "    </tr>\n",
       "    <tr>\n",
       "      <th>3</th>\n",
       "      <td>0.0324</td>\n",
       "      <td>0.0000</td>\n",
       "      <td>2.1800</td>\n",
       "      <td>0.0000</td>\n",
       "      <td>0.4580</td>\n",
       "      <td>6.9980</td>\n",
       "      <td>45.8000</td>\n",
       "      <td>6.0622</td>\n",
       "      <td>3.0000</td>\n",
       "      <td>222.0000</td>\n",
       "      <td>18.7000</td>\n",
       "      <td>394.6300</td>\n",
       "      <td>2.9400</td>\n",
       "    </tr>\n",
       "    <tr>\n",
       "      <th>4</th>\n",
       "      <td>0.0691</td>\n",
       "      <td>0.0000</td>\n",
       "      <td>2.1800</td>\n",
       "      <td>0.0000</td>\n",
       "      <td>0.4580</td>\n",
       "      <td>7.1470</td>\n",
       "      <td>54.2000</td>\n",
       "      <td>6.0622</td>\n",
       "      <td>3.0000</td>\n",
       "      <td>222.0000</td>\n",
       "      <td>18.7000</td>\n",
       "      <td>396.9000</td>\n",
       "      <td>5.3300</td>\n",
       "    </tr>\n",
       "  </tbody>\n",
       "</table>\n",
       "</div>"
      ],
      "text/plain": [
       "    CRIM      ZN  INDUS   CHAS    NOX     RM     AGE    DIS    RAD      TAX  \\\n",
       "0 0.0063 18.0000 2.3100 0.0000 0.5380 6.5750 65.2000 4.0900 1.0000 296.0000   \n",
       "1 0.0273  0.0000 7.0700 0.0000 0.4690 6.4210 78.9000 4.9671 2.0000 242.0000   \n",
       "2 0.0273  0.0000 7.0700 0.0000 0.4690 7.1850 61.1000 4.9671 2.0000 242.0000   \n",
       "3 0.0324  0.0000 2.1800 0.0000 0.4580 6.9980 45.8000 6.0622 3.0000 222.0000   \n",
       "4 0.0691  0.0000 2.1800 0.0000 0.4580 7.1470 54.2000 6.0622 3.0000 222.0000   \n",
       "\n",
       "   PTRATIO        B  LSTAT  \n",
       "0  15.3000 396.9000 4.9800  \n",
       "1  17.8000 396.9000 9.1400  \n",
       "2  17.8000 392.8300 4.0300  \n",
       "3  18.7000 394.6300 2.9400  \n",
       "4  18.7000 396.9000 5.3300  "
      ]
     },
     "execution_count": 40,
     "metadata": {},
     "output_type": "execute_result"
    }
   ],
   "source": [
    "df.head()"
   ]
  },
  {
   "cell_type": "markdown",
   "metadata": {},
   "source": [
    "Can see that features are on different scales. Need to standardize."
   ]
  },
  {
   "cell_type": "code",
   "execution_count": 35,
   "metadata": {},
   "outputs": [],
   "source": [
    "from sklearn.linear_model import LinearRegression"
   ]
  },
  {
   "cell_type": "code",
   "execution_count": 36,
   "metadata": {},
   "outputs": [],
   "source": [
    "model = LinearRegression()"
   ]
  },
  {
   "cell_type": "code",
   "execution_count": 37,
   "metadata": {},
   "outputs": [
    {
     "data": {
      "text/plain": [
       "LinearRegression(copy_X=True, fit_intercept=True, n_jobs=None,\n",
       "         normalize=False)"
      ]
     },
     "execution_count": 37,
     "metadata": {},
     "output_type": "execute_result"
    }
   ],
   "source": [
    "model.fit(X,y)"
   ]
  },
  {
   "cell_type": "code",
   "execution_count": 38,
   "metadata": {},
   "outputs": [
    {
     "data": {
      "text/html": [
       "<div>\n",
       "<style scoped>\n",
       "    .dataframe tbody tr th:only-of-type {\n",
       "        vertical-align: middle;\n",
       "    }\n",
       "\n",
       "    .dataframe tbody tr th {\n",
       "        vertical-align: top;\n",
       "    }\n",
       "\n",
       "    .dataframe thead th {\n",
       "        text-align: right;\n",
       "    }\n",
       "</style>\n",
       "<table border=\"1\" class=\"dataframe\">\n",
       "  <thead>\n",
       "    <tr style=\"text-align: right;\">\n",
       "      <th></th>\n",
       "      <th>coefficient</th>\n",
       "    </tr>\n",
       "    <tr>\n",
       "      <th>name</th>\n",
       "      <th></th>\n",
       "    </tr>\n",
       "  </thead>\n",
       "  <tbody>\n",
       "    <tr>\n",
       "      <th>NOX</th>\n",
       "      <td>17.7666</td>\n",
       "    </tr>\n",
       "    <tr>\n",
       "      <th>RM</th>\n",
       "      <td>3.8099</td>\n",
       "    </tr>\n",
       "    <tr>\n",
       "      <th>CHAS</th>\n",
       "      <td>2.6867</td>\n",
       "    </tr>\n",
       "    <tr>\n",
       "      <th>DIS</th>\n",
       "      <td>1.4756</td>\n",
       "    </tr>\n",
       "    <tr>\n",
       "      <th>PTRATIO</th>\n",
       "      <td>0.9527</td>\n",
       "    </tr>\n",
       "    <tr>\n",
       "      <th>LSTAT</th>\n",
       "      <td>0.5248</td>\n",
       "    </tr>\n",
       "    <tr>\n",
       "      <th>RAD</th>\n",
       "      <td>0.3060</td>\n",
       "    </tr>\n",
       "    <tr>\n",
       "      <th>CRIM</th>\n",
       "      <td>0.1080</td>\n",
       "    </tr>\n",
       "    <tr>\n",
       "      <th>ZN</th>\n",
       "      <td>0.0464</td>\n",
       "    </tr>\n",
       "    <tr>\n",
       "      <th>INDUS</th>\n",
       "      <td>0.0206</td>\n",
       "    </tr>\n",
       "    <tr>\n",
       "      <th>TAX</th>\n",
       "      <td>0.0123</td>\n",
       "    </tr>\n",
       "    <tr>\n",
       "      <th>B</th>\n",
       "      <td>0.0093</td>\n",
       "    </tr>\n",
       "    <tr>\n",
       "      <th>AGE</th>\n",
       "      <td>0.0007</td>\n",
       "    </tr>\n",
       "  </tbody>\n",
       "</table>\n",
       "</div>"
      ],
      "text/plain": [
       "         coefficient\n",
       "name                \n",
       "NOX          17.7666\n",
       "RM            3.8099\n",
       "CHAS          2.6867\n",
       "DIS           1.4756\n",
       "PTRATIO       0.9527\n",
       "LSTAT         0.5248\n",
       "RAD           0.3060\n",
       "CRIM          0.1080\n",
       "ZN            0.0464\n",
       "INDUS         0.0206\n",
       "TAX           0.0123\n",
       "B             0.0093\n",
       "AGE           0.0007"
      ]
     },
     "execution_count": 38,
     "metadata": {},
     "output_type": "execute_result"
    }
   ],
   "source": [
    "result = pd.DataFrame(list(zip(model.coef_, df.columns)), columns=['coefficient', 'name']).set_index('name')\n",
    "np.abs(result).sort_values(by='coefficient', ascending=False)"
   ]
  },
  {
   "cell_type": "markdown",
   "metadata": {},
   "source": [
    "Can see the difference in coefficients. \n",
    "Now scale them and do the same."
   ]
  },
  {
   "cell_type": "code",
   "execution_count": 43,
   "metadata": {},
   "outputs": [],
   "source": [
    "from sklearn.preprocessing import StandardScaler\n",
    "from sklearn.pipeline import make_pipeline\n",
    "scaler = StandardScaler()\n",
    "standard_coef_linear_reg = make_pipeline(scaler, model)"
   ]
  },
  {
   "cell_type": "code",
   "execution_count": 44,
   "metadata": {},
   "outputs": [
    {
     "data": {
      "text/html": [
       "<div>\n",
       "<style scoped>\n",
       "    .dataframe tbody tr th:only-of-type {\n",
       "        vertical-align: middle;\n",
       "    }\n",
       "\n",
       "    .dataframe tbody tr th {\n",
       "        vertical-align: top;\n",
       "    }\n",
       "\n",
       "    .dataframe thead th {\n",
       "        text-align: right;\n",
       "    }\n",
       "</style>\n",
       "<table border=\"1\" class=\"dataframe\">\n",
       "  <thead>\n",
       "    <tr style=\"text-align: right;\">\n",
       "      <th></th>\n",
       "      <th>coefficient</th>\n",
       "    </tr>\n",
       "    <tr>\n",
       "      <th>name</th>\n",
       "      <th></th>\n",
       "    </tr>\n",
       "  </thead>\n",
       "  <tbody>\n",
       "    <tr>\n",
       "      <th>LSTAT</th>\n",
       "      <td>3.7436</td>\n",
       "    </tr>\n",
       "    <tr>\n",
       "      <th>DIS</th>\n",
       "      <td>3.1040</td>\n",
       "    </tr>\n",
       "    <tr>\n",
       "      <th>RM</th>\n",
       "      <td>2.6742</td>\n",
       "    </tr>\n",
       "    <tr>\n",
       "      <th>RAD</th>\n",
       "      <td>2.6622</td>\n",
       "    </tr>\n",
       "    <tr>\n",
       "      <th>TAX</th>\n",
       "      <td>2.0768</td>\n",
       "    </tr>\n",
       "    <tr>\n",
       "      <th>PTRATIO</th>\n",
       "      <td>2.0606</td>\n",
       "    </tr>\n",
       "    <tr>\n",
       "      <th>NOX</th>\n",
       "      <td>2.0567</td>\n",
       "    </tr>\n",
       "    <tr>\n",
       "      <th>ZN</th>\n",
       "      <td>1.0816</td>\n",
       "    </tr>\n",
       "    <tr>\n",
       "      <th>CRIM</th>\n",
       "      <td>0.9281</td>\n",
       "    </tr>\n",
       "    <tr>\n",
       "      <th>B</th>\n",
       "      <td>0.8493</td>\n",
       "    </tr>\n",
       "    <tr>\n",
       "      <th>CHAS</th>\n",
       "      <td>0.6817</td>\n",
       "    </tr>\n",
       "    <tr>\n",
       "      <th>INDUS</th>\n",
       "      <td>0.1409</td>\n",
       "    </tr>\n",
       "    <tr>\n",
       "      <th>AGE</th>\n",
       "      <td>0.0195</td>\n",
       "    </tr>\n",
       "  </tbody>\n",
       "</table>\n",
       "</div>"
      ],
      "text/plain": [
       "         coefficient\n",
       "name                \n",
       "LSTAT         3.7436\n",
       "DIS           3.1040\n",
       "RM            2.6742\n",
       "RAD           2.6622\n",
       "TAX           2.0768\n",
       "PTRATIO       2.0606\n",
       "NOX           2.0567\n",
       "ZN            1.0816\n",
       "CRIM          0.9281\n",
       "B             0.8493\n",
       "CHAS          0.6817\n",
       "INDUS         0.1409\n",
       "AGE           0.0195"
      ]
     },
     "execution_count": 44,
     "metadata": {},
     "output_type": "execute_result"
    }
   ],
   "source": [
    "standard_coef_linear_reg.fit(X,y)\n",
    "result = pd.DataFrame(list(zip(standard_coef_linear_reg.steps[1][1].coef_, df.columns)),\n",
    "                     columns=['coefficient', 'name']).set_index('name')\n",
    "np.abs(result).sort_values(by='coefficient', ascending=False)"
   ]
  },
  {
   "cell_type": "markdown",
   "metadata": {},
   "source": [
    "Now with standard coefficients, we can see that LSTAT is most significant and AGE is least."
   ]
  },
  {
   "cell_type": "markdown",
   "metadata": {},
   "source": [
    "### Use $R^{2}$ to Identify Key Features\n",
    "-  Compare $R^{2}$ of medel against $R^{2}$ of model without a feature.\n",
    "-  A significant change in $R^{2}$ signify the importance of the feature."
   ]
  },
  {
   "cell_type": "code",
   "execution_count": 45,
   "metadata": {},
   "outputs": [],
   "source": [
    "from sklearn.metrics import r2_score"
   ]
  },
  {
   "cell_type": "markdown",
   "metadata": {},
   "source": [
    "Benchmark model with all features"
   ]
  },
  {
   "cell_type": "code",
   "execution_count": 46,
   "metadata": {},
   "outputs": [
    {
     "data": {
      "text/plain": [
       "0.7406426641094094"
      ]
     },
     "execution_count": 46,
     "metadata": {},
     "output_type": "execute_result"
    }
   ],
   "source": [
    "linear_reg = smf.ols(formula = 'y ~ CRIM + ZN + INDUS + CHAS + NOX + RM + AGE + DIS + RAD + TAX + PTRATIO + B + LSTAT',\n",
    "                 data=df)\n",
    "benchmark = linear_reg.fit()\n",
    "r2_score(y, benchmark.predict(df))"
   ]
  },
  {
   "cell_type": "markdown",
   "metadata": {},
   "source": [
    "Without LSTAT"
   ]
  },
  {
   "cell_type": "code",
   "execution_count": 49,
   "metadata": {},
   "outputs": [
    {
     "data": {
      "text/plain": [
       "0.6842042799773889"
      ]
     },
     "execution_count": 49,
     "metadata": {},
     "output_type": "execute_result"
    }
   ],
   "source": [
    "linear_reg = smf.ols(formula = 'y ~ CRIM + ZN + INDUS + CHAS + NOX + RM + AGE + DIS + RAD + TAX + PTRATIO + B',\n",
    "                 data=df)\n",
    "lr_without_LSTAT = linear_reg.fit()\n",
    "r2_score(y, lr_without_LSTAT.predict(df))"
   ]
  },
  {
   "cell_type": "markdown",
   "metadata": {},
   "source": [
    "Without AGE"
   ]
  },
  {
   "cell_type": "code",
   "execution_count": 50,
   "metadata": {},
   "outputs": [
    {
     "data": {
      "text/plain": [
       "0.7406412165505145"
      ]
     },
     "execution_count": 50,
     "metadata": {},
     "output_type": "execute_result"
    }
   ],
   "source": [
    "linear_reg = smf.ols(formula = 'y ~ CRIM + ZN + INDUS + CHAS + NOX + RM + DIS + RAD + TAX + PTRATIO + B + LSTAT',\n",
    "                 data=df)\n",
    "lr_without_AGE = linear_reg.fit()\n",
    "r2_score(y, lr_without_AGE.predict(df))"
   ]
  },
  {
   "cell_type": "markdown",
   "metadata": {},
   "source": [
    "***"
   ]
  },
  {
   "cell_type": "markdown",
   "metadata": {},
   "source": [
    "## Gradient Descent\n",
    "### Background\n",
    "$h(x) = \\theta_0 + \\theta_1X$\n",
    "\n",
    "Fine values of $\\theta_0$ and $\\theta_1$ which provide the best fit for the hypothesis to a training set. \n",
    "<br>\n",
    "The training set examples are labeled $x, y$.\n",
    "<br>\n",
    "$x$ is the input value and $y$ is the output.\n",
    "<br>\n",
    "the $i^{th}$ training example is labeled $x^{(i)}, y^{(i)}$.\n",
    "<br>\n",
    "<br>\n",
    "<br>\n",
    "### MSE Cost Function\n",
    "The cost function $J$ for a particular choise of parameters $\\theta$ is the mean squared error (MSE):\n",
    "$$J(\\theta)= \\frac{1}{m}\\sum_{i=1}^{m}(h_\\theta(x^{(i)})-y^{(i)})^2 $$\n",
    "<br>\n",
    "$m$ The number of training examples\n",
    "<br>\n",
    "$x^{(i)}$ The input vector for the $i^{th}$ training example\n",
    "<br>\n",
    "$y^{(i)}$ The class label for the $i^{th}$ training example\n",
    "<br>\n",
    "$\\theta$ The chosen parameter values of \"weights\" ($\\theta_0, \\theta_1, \\theta_2$)\n",
    "<br>\n",
    "$h_\\theta(x^{(i)})$ The alogrithm's prediction for the $i^{th}$ training exmple using parameter $\\theta$\n",
    "<br>\n",
    "The MSE measures the mean amount that the model's predictions deciate from the correct values.\n",
    "<br>\n",
    "It is a measure of the model's performance on the training set.\n",
    "<br>\n",
    "The cost is higher when the model is performing poorly on the training set,\n",
    "<br>\n",
    "The objective of the learning algorithm is to find the parameters $\\theta$ which give the minimum possible cost $J$.\n",
    "<br>\n",
    "<br>\n",
    "The minimization objective is expressed using the following notation, which simply states that we want to find the $\\theta$ which miniminzed the cost $J(\\theta)$.\n",
    "<br>\n",
    "$$\\min_{\\theta}J(\\theta)$$"
   ]
  },
  {
   "cell_type": "markdown",
   "metadata": {},
   "source": [
    "### Example 1\n",
    "### Gradient Descent Minimization\n",
    "Assume the cost function is:\n",
    "$$J(\\theta)=\\theta^2$$\n",
    "And we want to find the value of $\\theta$ which minimuzed $J(\\theta)$\n",
    "<br>\n",
    "Assume further we sstart with $\\theta=3$\n",
    "<br>\n",
    "<br>\n",
    "Gradient descent is an iterative algorithm which we will run many times.\n",
    "<br>\n",
    "On each iteration, we apply the follow \"update rule\" (the := symbol means replace $\\theta$ with the value computed on the right):\n",
    "$$\\theta:= \\theta-\\alpha\\frac{d}{d\\theta}J(\\theta)$$\n",
    "Alpha is the learning rate.\n",
    "<br>\n",
    "Assume $\\alpha=0.1$ for now.\n",
    "$$\\frac{d}{d\\theta}J(\\theta)=2\\theta$$"
   ]
  },
  {
   "cell_type": "code",
   "execution_count": 55,
   "metadata": {},
   "outputs": [],
   "source": [
    "import pandas as pd\n",
    "import numpy as np\n",
    "import matplotlib.pyplot as plt\n",
    "import seaborn as sns\n",
    "sns.set_style(\"whitegrid\")\n",
    "%matplotlib inline"
   ]
  },
  {
   "cell_type": "code",
   "execution_count": 61,
   "metadata": {},
   "outputs": [
    {
     "name": "stdout",
     "output_type": "stream",
     "text": [
      "3.0000 0.6000\n",
      "2.4000 0.4800\n",
      "1.9200 0.3840\n",
      "1.5360 0.3072\n",
      "1.2288 0.2458\n",
      "0.9830 0.1966\n",
      "0.7864 0.1573\n",
      "0.6291 0.1258\n",
      "0.5033 0.1007\n",
      "0.4027 0.0805\n"
     ]
    }
   ],
   "source": [
    "theta = 3\n",
    "alpha = 0.1\n",
    "dat = []\n",
    "for oo in range(0,10):\n",
    "    res = alpha * 2 * theta #update rule\n",
    "    print(\"{0:.4f} {1:.4f}\".format(theta, res))\n",
    "    dat.append([theta, theta ** 2])\n",
    "    theta = theta - res"
   ]
  },
  {
   "cell_type": "code",
   "execution_count": 62,
   "metadata": {},
   "outputs": [
    {
     "data": {
      "text/html": [
       "<div>\n",
       "<style scoped>\n",
       "    .dataframe tbody tr th:only-of-type {\n",
       "        vertical-align: middle;\n",
       "    }\n",
       "\n",
       "    .dataframe tbody tr th {\n",
       "        vertical-align: top;\n",
       "    }\n",
       "\n",
       "    .dataframe thead th {\n",
       "        text-align: right;\n",
       "    }\n",
       "</style>\n",
       "<table border=\"1\" class=\"dataframe\">\n",
       "  <thead>\n",
       "    <tr style=\"text-align: right;\">\n",
       "      <th></th>\n",
       "      <th>0</th>\n",
       "      <th>1</th>\n",
       "    </tr>\n",
       "  </thead>\n",
       "  <tbody>\n",
       "    <tr>\n",
       "      <th>0</th>\n",
       "      <td>3.0000</td>\n",
       "      <td>9.0000</td>\n",
       "    </tr>\n",
       "    <tr>\n",
       "      <th>1</th>\n",
       "      <td>2.4000</td>\n",
       "      <td>5.7600</td>\n",
       "    </tr>\n",
       "    <tr>\n",
       "      <th>2</th>\n",
       "      <td>1.9200</td>\n",
       "      <td>3.6864</td>\n",
       "    </tr>\n",
       "    <tr>\n",
       "      <th>3</th>\n",
       "      <td>1.5360</td>\n",
       "      <td>2.3593</td>\n",
       "    </tr>\n",
       "    <tr>\n",
       "      <th>4</th>\n",
       "      <td>1.2288</td>\n",
       "      <td>1.5099</td>\n",
       "    </tr>\n",
       "    <tr>\n",
       "      <th>5</th>\n",
       "      <td>0.9830</td>\n",
       "      <td>0.9664</td>\n",
       "    </tr>\n",
       "    <tr>\n",
       "      <th>6</th>\n",
       "      <td>0.7864</td>\n",
       "      <td>0.6185</td>\n",
       "    </tr>\n",
       "    <tr>\n",
       "      <th>7</th>\n",
       "      <td>0.6291</td>\n",
       "      <td>0.3958</td>\n",
       "    </tr>\n",
       "    <tr>\n",
       "      <th>8</th>\n",
       "      <td>0.5033</td>\n",
       "      <td>0.2533</td>\n",
       "    </tr>\n",
       "    <tr>\n",
       "      <th>9</th>\n",
       "      <td>0.4027</td>\n",
       "      <td>0.1621</td>\n",
       "    </tr>\n",
       "  </tbody>\n",
       "</table>\n",
       "</div>"
      ],
      "text/plain": [
       "       0      1\n",
       "0 3.0000 9.0000\n",
       "1 2.4000 5.7600\n",
       "2 1.9200 3.6864\n",
       "3 1.5360 2.3593\n",
       "4 1.2288 1.5099\n",
       "5 0.9830 0.9664\n",
       "6 0.7864 0.6185\n",
       "7 0.6291 0.3958\n",
       "8 0.5033 0.2533\n",
       "9 0.4027 0.1621"
      ]
     },
     "execution_count": 62,
     "metadata": {},
     "output_type": "execute_result"
    }
   ],
   "source": [
    "tmp = pd.DataFrame(dat)\n",
    "tmp"
   ]
  },
  {
   "cell_type": "code",
   "execution_count": 66,
   "metadata": {},
   "outputs": [
    {
     "data": {
      "text/plain": [
       "Text(0, 0.5, 'J(Theta)')"
      ]
     },
     "execution_count": 66,
     "metadata": {},
     "output_type": "execute_result"
    },
    {
     "data": {
      "image/png": "[encoded data removed]",
      "text/plain": [
       "<Figure size 720x576 with 1 Axes>"
      ]
     },
     "metadata": {
      "needs_background": "light"
     },
     "output_type": "display_data"
    }
   ],
   "source": [
    "plt.figure(figsize=(10,8))\n",
    "plt.plot(np.linspace(-2, 4, 100),np.linspace(-2, 4, 100) ** 2);\n",
    "plt.scatter(tmp.iloc[: ,0], tmp.iloc[: ,1], marker='x');\n",
    "plt.xlabel('Theta');\n",
    "plt.ylabel('J(Theta)');"
   ]
  },
  {
   "cell_type": "markdown",
   "metadata": {},
   "source": [
    "### Example 2\n",
    "<br>\n",
    "$$J(\\theta)=\\theta^4+\\theta^2$$\n",
    "$$\\frac{d}{d\\theta}J(\\theta)=4\\theta^3+2\\theta$$\n",
    "$$\\theta:=\\alpha(4\\theta^3+2\\theta)$$"
   ]
  },
  {
   "cell_type": "code",
   "execution_count": 67,
   "metadata": {},
   "outputs": [
    {
     "name": "stdout",
     "output_type": "stream",
     "text": [
      "3.0000 1.1400\n",
      "1.8600 0.2946\n",
      "1.5654 0.1847\n",
      "1.3807 0.1329\n",
      "1.2478 0.1027\n",
      "1.1451 0.0830\n",
      "1.0621 0.0692\n",
      "0.9930 0.0590\n",
      "0.9339 0.0513\n",
      "0.8827 0.0452\n"
     ]
    }
   ],
   "source": [
    "theta = 3\n",
    "alpha = 0.01\n",
    "dat = []\n",
    "for oo in range(0,10):\n",
    "    res = alpha * (4 * np.power(theta, 3) + 2 * theta)\n",
    "    print(\"{0:.4f} {1:.4f}\".format(theta, res))\n",
    "    dat.append([theta, theta ** 4 + theta ** 2])\n",
    "    theta = theta - res"
   ]
  },
  {
   "cell_type": "code",
   "execution_count": 68,
   "metadata": {},
   "outputs": [
    {
     "data": {
      "text/html": [
       "<div>\n",
       "<style scoped>\n",
       "    .dataframe tbody tr th:only-of-type {\n",
       "        vertical-align: middle;\n",
       "    }\n",
       "\n",
       "    .dataframe tbody tr th {\n",
       "        vertical-align: top;\n",
       "    }\n",
       "\n",
       "    .dataframe thead th {\n",
       "        text-align: right;\n",
       "    }\n",
       "</style>\n",
       "<table border=\"1\" class=\"dataframe\">\n",
       "  <thead>\n",
       "    <tr style=\"text-align: right;\">\n",
       "      <th></th>\n",
       "      <th>0</th>\n",
       "      <th>1</th>\n",
       "    </tr>\n",
       "  </thead>\n",
       "  <tbody>\n",
       "    <tr>\n",
       "      <th>0</th>\n",
       "      <td>3.0000</td>\n",
       "      <td>90.0000</td>\n",
       "    </tr>\n",
       "    <tr>\n",
       "      <th>1</th>\n",
       "      <td>1.8600</td>\n",
       "      <td>15.4284</td>\n",
       "    </tr>\n",
       "    <tr>\n",
       "      <th>2</th>\n",
       "      <td>1.5654</td>\n",
       "      <td>8.4554</td>\n",
       "    </tr>\n",
       "    <tr>\n",
       "      <th>3</th>\n",
       "      <td>1.3807</td>\n",
       "      <td>5.5399</td>\n",
       "    </tr>\n",
       "    <tr>\n",
       "      <th>4</th>\n",
       "      <td>1.2478</td>\n",
       "      <td>3.9810</td>\n",
       "    </tr>\n",
       "    <tr>\n",
       "      <th>5</th>\n",
       "      <td>1.1451</td>\n",
       "      <td>3.0307</td>\n",
       "    </tr>\n",
       "    <tr>\n",
       "      <th>6</th>\n",
       "      <td>1.0621</td>\n",
       "      <td>2.4009</td>\n",
       "    </tr>\n",
       "    <tr>\n",
       "      <th>7</th>\n",
       "      <td>0.9930</td>\n",
       "      <td>1.9582</td>\n",
       "    </tr>\n",
       "    <tr>\n",
       "      <th>8</th>\n",
       "      <td>0.9339</td>\n",
       "      <td>1.6331</td>\n",
       "    </tr>\n",
       "    <tr>\n",
       "      <th>9</th>\n",
       "      <td>0.8827</td>\n",
       "      <td>1.3862</td>\n",
       "    </tr>\n",
       "  </tbody>\n",
       "</table>\n",
       "</div>"
      ],
      "text/plain": [
       "       0       1\n",
       "0 3.0000 90.0000\n",
       "1 1.8600 15.4284\n",
       "2 1.5654  8.4554\n",
       "3 1.3807  5.5399\n",
       "4 1.2478  3.9810\n",
       "5 1.1451  3.0307\n",
       "6 1.0621  2.4009\n",
       "7 0.9930  1.9582\n",
       "8 0.9339  1.6331\n",
       "9 0.8827  1.3862"
      ]
     },
     "execution_count": 68,
     "metadata": {},
     "output_type": "execute_result"
    }
   ],
   "source": [
    "tmp = pd.DataFrame(dat)\n",
    "tmp"
   ]
  },
  {
   "cell_type": "code",
   "execution_count": 71,
   "metadata": {},
   "outputs": [
    {
     "data": {
      "image/png": "[encoded data removed]",
      "text/plain": [
       "<Figure size 1152x720 with 1 Axes>"
      ]
     },
     "metadata": {
      "needs_background": "light"
     },
     "output_type": "display_data"
    }
   ],
   "source": [
    "plt.figure(figsize=(16,10))\n",
    "plt.plot(np.linspace(-2, 4, 100), np.linspace(-2, 4, 100) ** 4 + np.linspace(-2, 4, 100) ** 2);\n",
    "plt.scatter(tmp.iloc[:, 0], tmp.iloc[:, 1], marker='x');\n",
    "plt.xlabel('Theta');\n",
    "plt.ylabel('J(theta)');"
   ]
  },
  {
   "cell_type": "markdown",
   "metadata": {},
   "source": [
    "***\n",
    "## Applying Gradient Descent to Boston Housing Data"
   ]
  },
  {
   "cell_type": "code",
   "execution_count": 72,
   "metadata": {},
   "outputs": [
    {
     "data": {
      "text/html": [
       "<div>\n",
       "<style scoped>\n",
       "    .dataframe tbody tr th:only-of-type {\n",
       "        vertical-align: middle;\n",
       "    }\n",
       "\n",
       "    .dataframe tbody tr th {\n",
       "        vertical-align: top;\n",
       "    }\n",
       "\n",
       "    .dataframe thead th {\n",
       "        text-align: right;\n",
       "    }\n",
       "</style>\n",
       "<table border=\"1\" class=\"dataframe\">\n",
       "  <thead>\n",
       "    <tr style=\"text-align: right;\">\n",
       "      <th></th>\n",
       "      <th>CRIM</th>\n",
       "      <th>ZN</th>\n",
       "      <th>INDUS</th>\n",
       "      <th>CHAS</th>\n",
       "      <th>NOX</th>\n",
       "      <th>RM</th>\n",
       "      <th>AGE</th>\n",
       "      <th>DIS</th>\n",
       "      <th>RAD</th>\n",
       "      <th>TAX</th>\n",
       "      <th>PTRATIO</th>\n",
       "      <th>B</th>\n",
       "      <th>LSTAT</th>\n",
       "    </tr>\n",
       "  </thead>\n",
       "  <tbody>\n",
       "    <tr>\n",
       "      <th>0</th>\n",
       "      <td>0.0063</td>\n",
       "      <td>18.0000</td>\n",
       "      <td>2.3100</td>\n",
       "      <td>0.0000</td>\n",
       "      <td>0.5380</td>\n",
       "      <td>6.5750</td>\n",
       "      <td>65.2000</td>\n",
       "      <td>4.0900</td>\n",
       "      <td>1.0000</td>\n",
       "      <td>296.0000</td>\n",
       "      <td>15.3000</td>\n",
       "      <td>396.9000</td>\n",
       "      <td>4.9800</td>\n",
       "    </tr>\n",
       "    <tr>\n",
       "      <th>1</th>\n",
       "      <td>0.0273</td>\n",
       "      <td>0.0000</td>\n",
       "      <td>7.0700</td>\n",
       "      <td>0.0000</td>\n",
       "      <td>0.4690</td>\n",
       "      <td>6.4210</td>\n",
       "      <td>78.9000</td>\n",
       "      <td>4.9671</td>\n",
       "      <td>2.0000</td>\n",
       "      <td>242.0000</td>\n",
       "      <td>17.8000</td>\n",
       "      <td>396.9000</td>\n",
       "      <td>9.1400</td>\n",
       "    </tr>\n",
       "    <tr>\n",
       "      <th>2</th>\n",
       "      <td>0.0273</td>\n",
       "      <td>0.0000</td>\n",
       "      <td>7.0700</td>\n",
       "      <td>0.0000</td>\n",
       "      <td>0.4690</td>\n",
       "      <td>7.1850</td>\n",
       "      <td>61.1000</td>\n",
       "      <td>4.9671</td>\n",
       "      <td>2.0000</td>\n",
       "      <td>242.0000</td>\n",
       "      <td>17.8000</td>\n",
       "      <td>392.8300</td>\n",
       "      <td>4.0300</td>\n",
       "    </tr>\n",
       "    <tr>\n",
       "      <th>3</th>\n",
       "      <td>0.0324</td>\n",
       "      <td>0.0000</td>\n",
       "      <td>2.1800</td>\n",
       "      <td>0.0000</td>\n",
       "      <td>0.4580</td>\n",
       "      <td>6.9980</td>\n",
       "      <td>45.8000</td>\n",
       "      <td>6.0622</td>\n",
       "      <td>3.0000</td>\n",
       "      <td>222.0000</td>\n",
       "      <td>18.7000</td>\n",
       "      <td>394.6300</td>\n",
       "      <td>2.9400</td>\n",
       "    </tr>\n",
       "    <tr>\n",
       "      <th>4</th>\n",
       "      <td>0.0691</td>\n",
       "      <td>0.0000</td>\n",
       "      <td>2.1800</td>\n",
       "      <td>0.0000</td>\n",
       "      <td>0.4580</td>\n",
       "      <td>7.1470</td>\n",
       "      <td>54.2000</td>\n",
       "      <td>6.0622</td>\n",
       "      <td>3.0000</td>\n",
       "      <td>222.0000</td>\n",
       "      <td>18.7000</td>\n",
       "      <td>396.9000</td>\n",
       "      <td>5.3300</td>\n",
       "    </tr>\n",
       "  </tbody>\n",
       "</table>\n",
       "</div>"
      ],
      "text/plain": [
       "    CRIM      ZN  INDUS   CHAS    NOX     RM     AGE    DIS    RAD      TAX  \\\n",
       "0 0.0063 18.0000 2.3100 0.0000 0.5380 6.5750 65.2000 4.0900 1.0000 296.0000   \n",
       "1 0.0273  0.0000 7.0700 0.0000 0.4690 6.4210 78.9000 4.9671 2.0000 242.0000   \n",
       "2 0.0273  0.0000 7.0700 0.0000 0.4690 7.1850 61.1000 4.9671 2.0000 242.0000   \n",
       "3 0.0324  0.0000 2.1800 0.0000 0.4580 6.9980 45.8000 6.0622 3.0000 222.0000   \n",
       "4 0.0691  0.0000 2.1800 0.0000 0.4580 7.1470 54.2000 6.0622 3.0000 222.0000   \n",
       "\n",
       "   PTRATIO        B  LSTAT  \n",
       "0  15.3000 396.9000 4.9800  \n",
       "1  17.8000 396.9000 9.1400  \n",
       "2  17.8000 392.8300 4.0300  \n",
       "3  18.7000 394.6300 2.9400  \n",
       "4  18.7000 396.9000 5.3300  "
      ]
     },
     "execution_count": 72,
     "metadata": {},
     "output_type": "execute_result"
    }
   ],
   "source": [
    "from sklearn.datasets import load_boston\n",
    "boston_data = load_boston()\n",
    "df = pd.DataFrame(boston_data.data, columns=boston_data.feature_names)\n",
    "df.head()"
   ]
  },
  {
   "cell_type": "code",
   "execution_count": 74,
   "metadata": {},
   "outputs": [],
   "source": [
    "X = df[['LSTAT']].values\n",
    "y = boston_data.target"
   ]
  },
  {
   "cell_type": "code",
   "execution_count": 75,
   "metadata": {},
   "outputs": [],
   "source": [
    "from sklearn.preprocessing import StandardScaler\n",
    "sc_x = StandardScaler()\n",
    "sc_y = StandardScaler()\n",
    "X_std = sc_x.fit_transform(X)\n",
    "y_std = sc_y.fit_transform(y.reshape(-1, 1)).flatten()"
   ]
  },
  {
   "cell_type": "code",
   "execution_count": 83,
   "metadata": {},
   "outputs": [],
   "source": [
    "alpha = 0.0001\n",
    "w_ = np.zeros(1 + X_std.shape[1])\n",
    "cost_ = []\n",
    "n_ = 100\n",
    "\n",
    "for i in range(n_):\n",
    "    y_pred = np.dot(X_std, w_[1:]) + w_[0]\n",
    "    errors = (y_std - y_pred)\n",
    "    \n",
    "    w_[1:] += alpha * X_std.T.dot(errors)\n",
    "    w_[0] += alpha * errors.sum()\n",
    "    \n",
    "    cost = (errors ** 2).sum() / 2.0\n",
    "    cost_.append(cost)"
   ]
  },
  {
   "cell_type": "code",
   "execution_count": 86,
   "metadata": {
    "collapsed": true
   },
   "outputs": [
    {
     "data": {
      "image/png": "[encoded data removed]",
      "text/plain": [
       "<Figure size 1152x720 with 1 Axes>"
      ]
     },
     "metadata": {
      "needs_background": "light"
     },
     "output_type": "display_data"
    }
   ],
   "source": [
    "plt.figure(figsize=(16,10))\n",
    "plt.plot(range(1, n_ + 1), cost_);\n",
    "plt.xlabel('SSE');\n",
    "plt.ylabel('EPOCH');"
   ]
  },
  {
   "cell_type": "code",
   "execution_count": 87,
   "metadata": {},
   "outputs": [
    {
     "data": {
      "text/plain": [
       "array([-7.57793828e-16, -7.33562757e-01])"
      ]
     },
     "execution_count": 87,
     "metadata": {},
     "output_type": "execute_result"
    }
   ],
   "source": [
    "w_"
   ]
  },
  {
   "cell_type": "code",
   "execution_count": 119,
   "metadata": {},
   "outputs": [
    {
     "data": {
      "text/plain": [
       "((506, 1), (506,))"
      ]
     },
     "execution_count": 119,
     "metadata": {},
     "output_type": "execute_result"
    }
   ],
   "source": [
    "#Perform Process on RM\n",
    "X = df[['RM']].values\n",
    "y = boston_data.target\n",
    "X.shape, y.shape"
   ]
  },
  {
   "cell_type": "code",
   "execution_count": 120,
   "metadata": {},
   "outputs": [],
   "source": [
    "from sklearn.preprocessing import StandardScaler\n",
    "sc_X = StandardScaler()\n",
    "sc_y = StandardScaler()\n",
    "X_std = sc_X.fit_transform(X)\n",
    "y_std = sc_y.fit_transform(y.reshape(-1, 1)).flatten()"
   ]
  },
  {
   "cell_type": "code",
   "execution_count": 130,
   "metadata": {},
   "outputs": [],
   "source": [
    "alpha = 0.0001\n",
    "w_ = np.zeros(1 + X_std.shape[1])\n",
    "cost_ = []\n",
    "n_ = 100\n",
    "\n",
    "for i in range(n_):\n",
    "    y_pred = np.dot(X_std, w_[1:]) + w_[0]\n",
    "    errors = (y_std - y_pred)\n",
    "    \n",
    "    w_[1:] += alpha * X_std.T.dot(errors)\n",
    "    w_[0] += alpha * error.sum()\n",
    "    \n",
    "    cost = (errors ** 2).sum() / 2.0\n",
    "    cost_.append(cost)"
   ]
  },
  {
   "cell_type": "code",
   "execution_count": 131,
   "metadata": {},
   "outputs": [
    {
     "data": {
      "image/png": "[encoded data removed]",
      "text/plain": [
       "<Figure size 1152x720 with 1 Axes>"
      ]
     },
     "metadata": {
      "needs_background": "light"
     },
     "output_type": "display_data"
    }
   ],
   "source": [
    "plt.figure(figsize=(16,10))\n",
    "plt.plot(range(1, n_ + 1), cost_);\n",
    "plt.xlabel('SSE');\n",
    "plt.ylabel('EPOCH');"
   ]
  },
  {
   "cell_type": "code",
   "execution_count": 132,
   "metadata": {},
   "outputs": [],
   "source": [
    "#Changing the learning rate, 0.00001:\n",
    "alpha = 0.00001\n",
    "w_ = np.zeros(1 + X_std.shape[1])\n",
    "cost_ = []\n",
    "n_ = 100\n",
    "\n",
    "for i in range(n_):\n",
    "    y_pred = np.dot(X_std, w_[1:]) + w_[0]\n",
    "    errors = (y_std - y_pred)\n",
    "    \n",
    "    w_[1:] += alpha * X_std.T.dot(errors)\n",
    "    w_[0] += alpha * error.sum()\n",
    "    \n",
    "    cost = (errors ** 2).sum() / 2.0\n",
    "    cost_.append(cost)"
   ]
  },
  {
   "cell_type": "code",
   "execution_count": 134,
   "metadata": {},
   "outputs": [
    {
     "data": {
      "image/png": "[encoded data removed]",
      "text/plain": [
       "<Figure size 1152x720 with 1 Axes>"
      ]
     },
     "metadata": {
      "needs_background": "light"
     },
     "output_type": "display_data"
    }
   ],
   "source": [
    "plt.figure(figsize=(16,10))\n",
    "plt.plot(range(1, n_ + 1), cost_);\n",
    "plt.xlabel('SSE');\n",
    "plt.ylabel('EPOCH');\n",
    "\n",
    "#Still works"
   ]
  },
  {
   "cell_type": "code",
   "execution_count": 146,
   "metadata": {},
   "outputs": [],
   "source": [
    "#Changing the learning rate, 0.01:\n",
    "alpha = 0.01\n",
    "w_ = np.zeros(1 + X_std.shape[1])\n",
    "cost_ = []\n",
    "n_ = 100\n",
    "\n",
    "for i in range(n_):\n",
    "    y_pred = np.dot(X_std, w_[1:]) + w_[0]\n",
    "    errors = (y_std - y_pred)\n",
    "    \n",
    "    w_[1:] += alpha * X_std.T.dot(errors)\n",
    "    w_[0] += alpha * error.sum()\n",
    "    \n",
    "    cost = (errors ** 2).sum() / 2.0\n",
    "    cost_.append(cost)"
   ]
  },
  {
   "cell_type": "code",
   "execution_count": 147,
   "metadata": {
    "scrolled": false
   },
   "outputs": [
    {
     "data": {
      "image/png": "[encoded data removed]",
      "text/plain": [
       "<Figure size 1152x720 with 1 Axes>"
      ]
     },
     "metadata": {
      "needs_background": "light"
     },
     "output_type": "display_data"
    }
   ],
   "source": [
    "plt.figure(figsize=(16,10))\n",
    "plt.plot(range(1, n_ + 1), cost_);\n",
    "plt.xlabel('SSE');\n",
    "plt.ylabel('EPOCH');\n",
    "\n",
    "#Too low, no longer converges."
   ]
  },
  {
   "cell_type": "markdown",
   "metadata": {},
   "source": [
    "***\n",
    "## Regularized Method for Regression\n",
    " - Ridge Regression\n",
    " - Least Absolute Shrinake and Selection Operator (LASSO)\n",
    " - Elastic Net\n",
    "\n",
    "### Ridge Regression\n",
    "\n",
    "Ridge regression addresses some of the problems of OLS by imposing a penalty on the size of coefficients. The ridge coefficients minimize a penalized residual sum of squares,\n",
    "\n",
    "$$\\min_w||X_w-y||_2^2+\\alpha||w||_2^2$$\n",
    "\n",
    "$\\alpha\\ge0$ is a completexity parameter that controls the amount of shrinkageL the larger the value of $\\alpha$, the greater the amount of shrinkage and thus the coefficiants become more robust to collinearity.\n",
    "\n",
    "Ridge regression is an L2 penalized model. Add the squared sum of the weights to the least squares cost function.\n",
    "\n",
    "Shows the effect of collinearity in the coefficients of an estimator.\n",
    "\n",
    "Rodge Regression is the estimater used in this example. Each color represents a different feature of the coefficient vector, and this is displayed as a function of the regularized parameter.\n",
    "\n",
    "This exmaple also shows the usefulness of applying Ridge regression to highly ill-conditioned matrices. For such matrices, a slight change in the target variable can cause huge variances int he calculated weights. In such cases, it is useful to set a certain regularization (alpha) to reduce this variation (noise)."
   ]
  },
  {
   "cell_type": "code",
   "execution_count": 154,
   "metadata": {},
   "outputs": [
    {
     "data": {
      "image/png": "[encoded data removed]",
      "text/plain": [
       "<Figure size 720x576 with 1 Axes>"
      ]
     },
     "metadata": {
      "needs_background": "light"
     },
     "output_type": "display_data"
    }
   ],
   "source": [
    "import numpy as np\n",
    "import matplotlib.pyplot as plt\n",
    "from sklearn import linear_model\n",
    "\n",
    "# X is the 10x10 Hilbert matrix\n",
    "X = 1. / (np.arange(1, 11) + np.arange(0, 10)[:, np.newaxis])\n",
    "y = np.ones(10)\n",
    "\n",
    "###############\n",
    "#Compute Paths\n",
    "\n",
    "n_alphas = 200\n",
    "alphas = np.logspace(-10, -2, n_alphas)\n",
    "\n",
    "coefs = []\n",
    "for a in alphas:\n",
    "    ridge = linear_model.Ridge(alpha=a, fit_intercept=False)\n",
    "    ridge.fit(X, y)\n",
    "    coefs.append(ridge.coef_)\n",
    "    \n",
    "##############\n",
    "#Display Results\n",
    "plt.figure(figsize=(10,8))\n",
    "ax = plt.gca()\n",
    "\n",
    "ax.plot(alphas, coefs)\n",
    "ax.set_xscale('log')\n",
    "ax.set_xlim(ax.get_xlim()[::-1]) #reverse axis\n",
    "plt.xlabel('alpha')\n",
    "plt.ylabel('weights')\n",
    "plt.title('Ridge coefficients as a function of the regularization')\n",
    "plt.axis('tight')\n",
    "plt.show()\n"
   ]
  },
  {
   "cell_type": "markdown",
   "metadata": {},
   "source": [
    "### LASSO Regression\n",
    "\n",
    "A linear model that estimates sparse coefficients.\n",
    "\n",
    "Mathmatically, it consists of a linear model trained with $\\ell_1$ prior as a regularizer. The objective function to minimize is:\n",
    "$$\\min_w\\frac{1}{2n_{samples}}||X_w-y||_2^2+\\alpha||w||_2^2$$\n",
    "\n",
    "The lasso estimate thus solves the minimization of the least-squares penalty with $\\alpha||w||_1$ added, where $\\alpha$ is a constanct and $||w||_1$ is the $\\ell_1-\\textit{norm}$ of the parameter vector."
   ]
  },
  {
   "cell_type": "markdown",
   "metadata": {},
   "source": [
    "### Elastic Net\n",
    "\n",
    "A linear regression model trained with L1 and L2 prior as regularizer.\n",
    "\n",
    "This combination allows for learning a sparse model where few of the weights are non-zero like Lasso, while still maintaining the regularization properties of Ridge\n",
    "\n",
    "Elastic-net is useful when there are multiple features which are correlated with one another. Lasso is likely to pick one of these at random, while elastic-net is likely to pick both.\n",
    "\n",
    "A practical advantage of trading-off between Lasst and Ridge is that it allows Elastic-Net to inherit some of Ridge's stability under rotation.\n",
    "\n",
    "The objective function to minimize in this case:\n",
    "$$\\min_w\\frac{1}{2n_{samples}}||X_w-y||_2^2+\\alpha\\rho||w||_1+\\frac{\\alpha(1-\\rho)}{2}||w||_2^2$$"
   ]
  },
  {
   "cell_type": "markdown",
   "metadata": {},
   "source": [
    "***\n",
    "### Outliers Impact"
   ]
  },
  {
   "cell_type": "code",
   "execution_count": 157,
   "metadata": {},
   "outputs": [],
   "source": [
    "import numpy as np\n",
    "import matplotlib.pyplot as plt\n",
    "import seaborn as sns\n",
    "sns.set_style('whitegrid')\n",
    "%matplotlib inline\n",
    "import pandas as pd"
   ]
  },
  {
   "cell_type": "markdown",
   "metadata": {},
   "source": [
    "#### Linear Regression"
   ]
  },
  {
   "cell_type": "code",
   "execution_count": 158,
   "metadata": {},
   "outputs": [],
   "source": [
    "from sklearn.linear_model import LinearRegression"
   ]
  },
  {
   "cell_type": "code",
   "execution_count": 167,
   "metadata": {},
   "outputs": [
    {
     "name": "stdout",
     "output_type": "stream",
     "text": [
      "Coefficient Estimate:  [0.47134857]\n"
     ]
    },
    {
     "data": {
      "image/png": "[encoded data removed]",
      "text/plain": [
       "<Figure size 720x576 with 1 Axes>"
      ]
     },
     "metadata": {
      "needs_background": "light"
     },
     "output_type": "display_data"
    }
   ],
   "source": [
    "np.random.seed(42)\n",
    "n_samples = 100\n",
    "lr = LinearRegression()\n",
    "rng = np.random.randn(n_samples) * 10\n",
    "y_gen = 0.5 * rng + 2 * np.random.randn(n_samples)\n",
    "lr.fit(rng.reshape(-1, 1), y_gen)\n",
    "model_pred = lr.predict(rng.reshape(-1, 1))\n",
    "plt.figure(figsize=(10,8));\n",
    "plt.scatter(rng, y_gen);\n",
    "plt.plot(rng, model_pred);\n",
    "print(\"Coefficient Estimate: \", lr.coef_)"
   ]
  },
  {
   "cell_type": "code",
   "execution_count": 170,
   "metadata": {
    "scrolled": true
   },
   "outputs": [],
   "source": [
    "# create a large outlier\n",
    "idx = rng.argmax()\n",
    "y_gen[idx] = 200"
   ]
  },
  {
   "cell_type": "code",
   "execution_count": 175,
   "metadata": {},
   "outputs": [
    {
     "name": "stdout",
     "output_type": "stream",
     "text": [
      "Coefficient Estimate:  [0.92796845]\n"
     ]
    },
    {
     "data": {
      "image/png": "[encoded data removed]",
      "text/plain": [
       "<Figure size 720x576 with 1 Axes>"
      ]
     },
     "metadata": {
      "needs_background": "light"
     },
     "output_type": "display_data"
    }
   ],
   "source": [
    "plt.figure(figsize=(10,8));\n",
    "plt.scatter(rng, y_gen);\n",
    "\n",
    "o_lr = LinearRegression(normalize=True)\n",
    "o_lr.fit(rng.reshape(-1, 1), y_gen)\n",
    "o_model_pred = o_lr.predict(rng.reshape(-1, 1))\n",
    "\n",
    "plt.scatter(rng, y_gen);\n",
    "plt.plot(rng, o_model_pred);\n",
    "print(\"Coefficient Estimate: \", o_lr.coef_)"
   ]
  },
  {
   "cell_type": "markdown",
   "metadata": {},
   "source": [
    "#### Ridge Regression"
   ]
  },
  {
   "cell_type": "code",
   "execution_count": 173,
   "metadata": {},
   "outputs": [],
   "source": [
    "from sklearn.linear_model import Ridge"
   ]
  },
  {
   "cell_type": "code",
   "execution_count": 181,
   "metadata": {},
   "outputs": [
    {
     "name": "stdout",
     "output_type": "stream",
     "text": [
      "Coefficient Estimate:  [0.46398423]\n"
     ]
    },
    {
     "data": {
      "image/png": "[encoded data removed]",
      "text/plain": [
       "<Figure size 720x576 with 1 Axes>"
      ]
     },
     "metadata": {
      "needs_background": "light"
     },
     "output_type": "display_data"
    }
   ],
   "source": [
    "ridge_mod = Ridge(alpha=1, normalize=True)\n",
    "ridge_mod.fit(rng.reshape(-1,1), y_gen)\n",
    "ridge_model_pred = ridge_mod.predict(rng.reshape(-1, 1))\n",
    "\n",
    "plt.figure(figsize=(10,8));\n",
    "plt.scatter(rng, y_gen);\n",
    "plt.plot(rng, ridge_model_pred);\n",
    "print(\"Coefficient Estimate: \", ridge_mod.coef_)"
   ]
  },
  {
   "cell_type": "markdown",
   "metadata": {},
   "source": [
    "#### Lasso Regression"
   ]
  },
  {
   "cell_type": "code",
   "execution_count": 179,
   "metadata": {},
   "outputs": [],
   "source": [
    "from sklearn.linear_model import Lasso"
   ]
  },
  {
   "cell_type": "code",
   "execution_count": 185,
   "metadata": {},
   "outputs": [
    {
     "name": "stdout",
     "output_type": "stream",
     "text": [
      "Coefficient Estimate:  [0.48530263]\n"
     ]
    },
    {
     "data": {
      "image/png": "[encoded data removed]",
      "text/plain": [
       "<Figure size 720x576 with 1 Axes>"
      ]
     },
     "metadata": {
      "needs_background": "light"
     },
     "output_type": "display_data"
    }
   ],
   "source": [
    "lasso_mod = Lasso(alpha=0.4, normalize=True)\n",
    "lasso_mod.fit(rng.reshape(-1,1), y_gen)\n",
    "lasso_model_pred = lasso_mod.predict(rng.reshape(-1, 1))\n",
    "\n",
    "plt.figure(figsize=(10,8));\n",
    "plt.scatter(rng, y_gen);\n",
    "plt.plot(rng, lasso_model_pred);\n",
    "print(\"Coefficient Estimate: \", lasso_mod.coef_)"
   ]
  },
  {
   "cell_type": "markdown",
   "metadata": {},
   "source": [
    "#### Elastic Net Regression"
   ]
  },
  {
   "cell_type": "code",
   "execution_count": 182,
   "metadata": {},
   "outputs": [],
   "source": [
    "from sklearn.linear_model import ElasticNet"
   ]
  },
  {
   "cell_type": "code",
   "execution_count": 184,
   "metadata": {},
   "outputs": [
    {
     "name": "stdout",
     "output_type": "stream",
     "text": [
      "Coefficient Estimate:  [0.4584509]\n"
     ]
    },
    {
     "data": {
      "image/png": "[encoded data removed]",
      "text/plain": [
       "<Figure size 720x576 with 1 Axes>"
      ]
     },
     "metadata": {
      "needs_background": "light"
     },
     "output_type": "display_data"
    }
   ],
   "source": [
    "en_mod = ElasticNet(alpha=0.02, normalize=True)\n",
    "en_mod.fit(rng.reshape(-1, 1), y_gen)\n",
    "en_model_pred = en_mod.predict(rng.reshape(-1, 1))\n",
    "\n",
    "plt.figure(figsize=(10, 8));\n",
    "plt.scatter(rng, y_gen);\n",
    "plt.plot(rng, en_model_pred);\n",
    "print(\"Coefficient Estimate: \", en_mod.coef_)"
   ]
  },
  {
   "cell_type": "markdown",
   "metadata": {},
   "source": [
    "### Summary\n",
    "\n",
    "When to use Ridge, Lasso, or Elastic Net:\n",
    "\n",
    " - Ridge regression can't zero out coefficients; You either end up including all or none in the model.\n",
    " - LASST does botyh parameter shrinkage and variable selection automatically.\n",
    " - If some of your covariates are highly correlated, may want to look at Elastic Net instead of LASSO."
   ]
  },
  {
   "cell_type": "code",
   "execution_count": null,
   "metadata": {},
   "outputs": [],
   "source": []
  }
 ],
 "metadata": {
  "kernelspec": {
   "display_name": "Python 3",
   "language": "python",
   "name": "python3"
  },
  "language_info": {
   "codemirror_mode": {
    "name": "ipython",
    "version": 3
   },
   "file_extension": ".py",
   "mimetype": "text/x-python",
   "name": "python",
   "nbconvert_exporter": "python",
   "pygments_lexer": "ipython3",
   "version": "3.7.1"
  }
 },
 "nbformat": 4,
 "nbformat_minor": 2
}
