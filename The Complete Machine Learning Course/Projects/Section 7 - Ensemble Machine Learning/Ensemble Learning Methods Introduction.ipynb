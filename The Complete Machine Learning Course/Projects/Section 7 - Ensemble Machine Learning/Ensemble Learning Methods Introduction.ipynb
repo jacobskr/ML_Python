{
 "cells": [
  {
   "cell_type": "markdown",
   "metadata": {},
   "source": [
    "# Ensemble Learning Methods Introduction\n",
    "\n",
    "Supervised Learning\n",
    "\n",
    "Group of predictors (classifiers / regression)\n",
    "\n",
    "## Ensemble Methods:\n",
    "\n",
    "### Bootstrap Aggregating or Bagging\n",
    " - Bootstrap sampling: Sampling with replacement\n",
    " - Combine by averaging the output (regression)\n",
    " - Combine by voting (classification)\n",
    " - Can be applied to many classifiers which include ANN, CART, etc.\n",
    " \n",
    "### Pasting\n",
    " - Sampling without replacement\n",
    " - Similar to Bookstrap\n",
    " \n",
    "### Boosting\n",
    " - Train weak classifiers\n",
    " - Add them to a final strong classifier by weighting. Weighted by accuracy typically.\n",
    " - Once added, the data are reweighted\n",
    "     - Misclassified samples gain weight\n",
    "     - Correctly classified sample lose weight\n",
    "     - Algorithm is foreced to lean more from misclassified samples\n",
    "     \n",
    "### Stacking\n",
    " - Also known as Stacked Generalization.\n",
    " - Combine information from multiple predictive models to generate a new model. Oftem times the stacked mode (also called 2nd-level model) will outperform each of the individual models due to its smoothing nature and ability to highlight each base model where it performs best and discredit each base model where it performs poorly. For this reason, stacking is most effective when the base models are significantly different.\n",
    "     - Step 1: Train learning alogorithm.\n",
    "     - Step 2: Combiner algorithm is trained using predictions from step 1."
   ]
  },
  {
   "cell_type": "code",
   "execution_count": null,
   "metadata": {},
   "outputs": [],
   "source": []
  }
 ],
 "metadata": {
  "kernelspec": {
   "display_name": "Python 3",
   "language": "python",
   "name": "python3"
  },
  "language_info": {
   "codemirror_mode": {
    "name": "ipython",
    "version": 3
   },
   "file_extension": ".py",
   "mimetype": "text/x-python",
   "name": "python",
   "nbconvert_exporter": "python",
   "pygments_lexer": "ipython3",
   "version": "3.7.1"
  }
 },
 "nbformat": 4,
 "nbformat_minor": 2
}
