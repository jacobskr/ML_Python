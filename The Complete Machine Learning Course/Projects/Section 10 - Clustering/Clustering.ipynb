{
 "cells": [
  {
   "cell_type": "markdown",
   "metadata": {},
   "source": [
    "# Unsupervised Learning: Clustering\n",
    " - The task of grouping a set of objects in such a way that objects in the same group (cluster) are more similar (in some sense or another) to each other than those in other groups (clusters).\n",
    "\n",
    "\n",
    "Examples:\n",
    " - Natural Language Processing (NLP)\n",
    " - Computer Vision\n",
    " - Stock Markets\n",
    " - Customer / Market Segmentation\n",
    " - Fraud Detection\n",
    " \n",
    "\n",
    "## Types\n",
    "\n",
    "#### Connectivity-based clustering\n",
    " - Distance based\n",
    " - E.g., Hierarchical clustering\n",
    "\n",
    "\n",
    "#### Centroid-based clustering\n",
    " - Represents each cluster by a single mean vector\n",
    " - E.g., k-means algorithm\n",
    " \n",
    "\n",
    "#### Distribution-based clustering\n",
    " - Modeled using statistical distributions\n",
    " - E.g., Multivariate normal distributions used by the expectation-maximization algorithm\n",
    "\n",
    "\n",
    "#### Density-based clustering\n",
    " - Defines clusters as copnnected dense regions in the data space\n",
    " - E.g., DBSCAN"
   ]
  },
  {
   "cell_type": "code",
   "execution_count": null,
   "metadata": {},
   "outputs": [],
   "source": []
  }
 ],
 "metadata": {
  "kernelspec": {
   "display_name": "Python 3",
   "language": "python",
   "name": "python3"
  },
  "language_info": {
   "codemirror_mode": {
    "name": "ipython",
    "version": 3
   },
   "file_extension": ".py",
   "mimetype": "text/x-python",
   "name": "python",
   "nbconvert_exporter": "python",
   "pygments_lexer": "ipython3",
   "version": "3.7.1"
  }
 },
 "nbformat": 4,
 "nbformat_minor": 2
}
