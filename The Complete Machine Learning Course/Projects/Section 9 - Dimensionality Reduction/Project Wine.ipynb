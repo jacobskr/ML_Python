{
 "cells": [
  {
   "cell_type": "markdown",
   "metadata": {},
   "source": [
    "# Dimensionality Reduction by Extracting Principal Components\n",
    "\n",
    "[Wine](https://archive.ics.uci.edu/ml/machine-learning-databases/wine/)"
   ]
  },
  {
   "cell_type": "code",
   "execution_count": 1,
   "metadata": {},
   "outputs": [],
   "source": [
    "import numpy as np\n",
    "import pandas as pd\n",
    "import matplotlib.pyplot as plt\n",
    "import seaborn as sns\n",
    "%matplotlib inline\n",
    "sns.set()"
   ]
  },
  {
   "cell_type": "code",
   "execution_count": 4,
   "metadata": {},
   "outputs": [],
   "source": [
    "import os\n",
    "#os.chdir('..')\n",
    "#os.chdir('..')\n",
    "#os.getcwd()"
   ]
  },
  {
   "cell_type": "code",
   "execution_count": 5,
   "metadata": {},
   "outputs": [
    {
     "data": {
      "text/plain": [
       "(178, 14)"
      ]
     },
     "execution_count": 5,
     "metadata": {},
     "output_type": "execute_result"
    }
   ],
   "source": [
    "df = pd.read_csv('Data\\Wine\\wine.csv')\n",
    "df.shape"
   ]
  },
  {
   "cell_type": "code",
   "execution_count": 6,
   "metadata": {},
   "outputs": [
    {
     "data": {
      "text/html": [
       "<div>\n",
       "<style scoped>\n",
       "    .dataframe tbody tr th:only-of-type {\n",
       "        vertical-align: middle;\n",
       "    }\n",
       "\n",
       "    .dataframe tbody tr th {\n",
       "        vertical-align: top;\n",
       "    }\n",
       "\n",
       "    .dataframe thead th {\n",
       "        text-align: right;\n",
       "    }\n",
       "</style>\n",
       "<table border=\"1\" class=\"dataframe\">\n",
       "  <thead>\n",
       "    <tr style=\"text-align: right;\">\n",
       "      <th></th>\n",
       "      <th>class</th>\n",
       "      <th>Alcohol</th>\n",
       "      <th>Malic acid</th>\n",
       "      <th>Ash</th>\n",
       "      <th>Alcalinity of ash</th>\n",
       "      <th>Magnesium</th>\n",
       "      <th>Total phenols</th>\n",
       "      <th>Flavanoids</th>\n",
       "      <th>Nonflavanoid phenols</th>\n",
       "      <th>Proanthocyanins</th>\n",
       "      <th>Color intensity</th>\n",
       "      <th>Hue</th>\n",
       "      <th>OD280/OD315 of diluted wines</th>\n",
       "      <th>Proline</th>\n",
       "    </tr>\n",
       "  </thead>\n",
       "  <tbody>\n",
       "    <tr>\n",
       "      <th>0</th>\n",
       "      <td>1</td>\n",
       "      <td>14.23</td>\n",
       "      <td>1.71</td>\n",
       "      <td>2.43</td>\n",
       "      <td>15.6</td>\n",
       "      <td>127</td>\n",
       "      <td>2.80</td>\n",
       "      <td>3.06</td>\n",
       "      <td>0.28</td>\n",
       "      <td>2.29</td>\n",
       "      <td>5.64</td>\n",
       "      <td>1.04</td>\n",
       "      <td>3.92</td>\n",
       "      <td>1065</td>\n",
       "    </tr>\n",
       "    <tr>\n",
       "      <th>1</th>\n",
       "      <td>1</td>\n",
       "      <td>13.20</td>\n",
       "      <td>1.78</td>\n",
       "      <td>2.14</td>\n",
       "      <td>11.2</td>\n",
       "      <td>100</td>\n",
       "      <td>2.65</td>\n",
       "      <td>2.76</td>\n",
       "      <td>0.26</td>\n",
       "      <td>1.28</td>\n",
       "      <td>4.38</td>\n",
       "      <td>1.05</td>\n",
       "      <td>3.40</td>\n",
       "      <td>1050</td>\n",
       "    </tr>\n",
       "    <tr>\n",
       "      <th>2</th>\n",
       "      <td>1</td>\n",
       "      <td>13.16</td>\n",
       "      <td>2.36</td>\n",
       "      <td>2.67</td>\n",
       "      <td>18.6</td>\n",
       "      <td>101</td>\n",
       "      <td>2.80</td>\n",
       "      <td>3.24</td>\n",
       "      <td>0.30</td>\n",
       "      <td>2.81</td>\n",
       "      <td>5.68</td>\n",
       "      <td>1.03</td>\n",
       "      <td>3.17</td>\n",
       "      <td>1185</td>\n",
       "    </tr>\n",
       "    <tr>\n",
       "      <th>3</th>\n",
       "      <td>1</td>\n",
       "      <td>14.37</td>\n",
       "      <td>1.95</td>\n",
       "      <td>2.50</td>\n",
       "      <td>16.8</td>\n",
       "      <td>113</td>\n",
       "      <td>3.85</td>\n",
       "      <td>3.49</td>\n",
       "      <td>0.24</td>\n",
       "      <td>2.18</td>\n",
       "      <td>7.80</td>\n",
       "      <td>0.86</td>\n",
       "      <td>3.45</td>\n",
       "      <td>1480</td>\n",
       "    </tr>\n",
       "    <tr>\n",
       "      <th>4</th>\n",
       "      <td>1</td>\n",
       "      <td>13.24</td>\n",
       "      <td>2.59</td>\n",
       "      <td>2.87</td>\n",
       "      <td>21.0</td>\n",
       "      <td>118</td>\n",
       "      <td>2.80</td>\n",
       "      <td>2.69</td>\n",
       "      <td>0.39</td>\n",
       "      <td>1.82</td>\n",
       "      <td>4.32</td>\n",
       "      <td>1.04</td>\n",
       "      <td>2.93</td>\n",
       "      <td>735</td>\n",
       "    </tr>\n",
       "  </tbody>\n",
       "</table>\n",
       "</div>"
      ],
      "text/plain": [
       "   class   Alcohol   Malic acid   Ash   Alcalinity of ash     Magnesium  \\\n",
       "0      1     14.23         1.71  2.43                  15.6         127   \n",
       "1      1     13.20         1.78  2.14                  11.2         100   \n",
       "2      1     13.16         2.36  2.67                  18.6         101   \n",
       "3      1     14.37         1.95  2.50                  16.8         113   \n",
       "4      1     13.24         2.59  2.87                  21.0         118   \n",
       "\n",
       "    Total phenols   Flavanoids   Nonflavanoid phenols   Proanthocyanins  \\\n",
       "0            2.80         3.06                   0.28              2.29   \n",
       "1            2.65         2.76                   0.26              1.28   \n",
       "2            2.80         3.24                   0.30              2.81   \n",
       "3            3.85         3.49                   0.24              2.18   \n",
       "4            2.80         2.69                   0.39              1.82   \n",
       "\n",
       "   Color intensity   Hue  OD280/OD315 of diluted wines  Proline          \n",
       "0             5.64  1.04                          3.92             1065  \n",
       "1             4.38  1.05                          3.40             1050  \n",
       "2             5.68  1.03                          3.17             1185  \n",
       "3             7.80  0.86                          3.45             1480  \n",
       "4             4.32  1.04                          2.93              735  "
      ]
     },
     "execution_count": 6,
     "metadata": {},
     "output_type": "execute_result"
    }
   ],
   "source": [
    "df.head()"
   ]
  },
  {
   "cell_type": "code",
   "execution_count": 7,
   "metadata": {},
   "outputs": [],
   "source": [
    "X = df.iloc[:, 1:]"
   ]
  },
  {
   "cell_type": "code",
   "execution_count": 9,
   "metadata": {},
   "outputs": [],
   "source": [
    "y = df['class']"
   ]
  },
  {
   "cell_type": "markdown",
   "metadata": {},
   "source": [
    "## Part 1"
   ]
  },
  {
   "cell_type": "code",
   "execution_count": 13,
   "metadata": {},
   "outputs": [],
   "source": [
    "from sklearn.model_selection import train_test_split\n",
    "X_train, X_test, y_train, y_test = train_test_split(X, y, test_size=0.2,\n",
    "                                                    random_state=42)"
   ]
  },
  {
   "cell_type": "code",
   "execution_count": 14,
   "metadata": {},
   "outputs": [],
   "source": [
    "from sklearn.preprocessing import StandardScaler\n",
    "sc = StandardScaler()"
   ]
  },
  {
   "cell_type": "code",
   "execution_count": 43,
   "metadata": {},
   "outputs": [
    {
     "name": "stderr",
     "output_type": "stream",
     "text": [
      "C:\\ProgramData\\Anaconda3\\lib\\site-packages\\sklearn\\preprocessing\\data.py:625: DataConversionWarning: Data with input dtype int64, float64 were all converted to float64 by StandardScaler.\n",
      "  return self.partial_fit(X, y)\n",
      "C:\\ProgramData\\Anaconda3\\lib\\site-packages\\ipykernel_launcher.py:2: DataConversionWarning: Data with input dtype int64, float64 were all converted to float64 by StandardScaler.\n",
      "  \n",
      "C:\\ProgramData\\Anaconda3\\lib\\site-packages\\ipykernel_launcher.py:3: DataConversionWarning: Data with input dtype int64, float64 were all converted to float64 by StandardScaler.\n",
      "  This is separate from the ipykernel package so we can avoid doing imports until\n"
     ]
    }
   ],
   "source": [
    "sc.fit(X_train)\n",
    "X_train_sc = sc.transform(X_train)\n",
    "X_test_sc = sc.transform(X_test)"
   ]
  },
  {
   "cell_type": "markdown",
   "metadata": {},
   "source": [
    "**Do with just 2 principal components first**"
   ]
  },
  {
   "cell_type": "code",
   "execution_count": 17,
   "metadata": {},
   "outputs": [],
   "source": [
    "from sklearn.decomposition import PCA"
   ]
  },
  {
   "cell_type": "code",
   "execution_count": 44,
   "metadata": {},
   "outputs": [
    {
     "data": {
      "text/plain": [
       "PCA(copy=True, iterated_power='auto', n_components=2, random_state=None,\n",
       "  svd_solver='auto', tol=0.0, whiten=False)"
      ]
     },
     "execution_count": 44,
     "metadata": {},
     "output_type": "execute_result"
    }
   ],
   "source": [
    "pca = PCA(n_components=2)\n",
    "pca.fit(X_train_sc)"
   ]
  },
  {
   "cell_type": "code",
   "execution_count": 45,
   "metadata": {},
   "outputs": [
    {
     "data": {
      "text/plain": [
       "array([0.35900066, 0.18691934])"
      ]
     },
     "execution_count": 45,
     "metadata": {},
     "output_type": "execute_result"
    }
   ],
   "source": [
    "pca.explained_variance_ratio_"
   ]
  },
  {
   "cell_type": "code",
   "execution_count": 46,
   "metadata": {},
   "outputs": [
    {
     "name": "stdout",
     "output_type": "stream",
     "text": [
      "[0.359 0.187]\n"
     ]
    }
   ],
   "source": [
    "print(np.round(pca.explained_variance_ratio_, 3))"
   ]
  },
  {
   "cell_type": "code",
   "execution_count": 47,
   "metadata": {},
   "outputs": [
    {
     "data": {
      "text/html": [
       "<div>\n",
       "<style scoped>\n",
       "    .dataframe tbody tr th:only-of-type {\n",
       "        vertical-align: middle;\n",
       "    }\n",
       "\n",
       "    .dataframe tbody tr th {\n",
       "        vertical-align: top;\n",
       "    }\n",
       "\n",
       "    .dataframe thead th {\n",
       "        text-align: right;\n",
       "    }\n",
       "</style>\n",
       "<table border=\"1\" class=\"dataframe\">\n",
       "  <thead>\n",
       "    <tr style=\"text-align: right;\">\n",
       "      <th></th>\n",
       "      <th>0</th>\n",
       "      <th>1</th>\n",
       "    </tr>\n",
       "  </thead>\n",
       "  <tbody>\n",
       "    <tr>\n",
       "      <th>Alcohol</th>\n",
       "      <td>0.128</td>\n",
       "      <td>-0.493</td>\n",
       "    </tr>\n",
       "    <tr>\n",
       "      <th>Malic acid</th>\n",
       "      <td>-0.256</td>\n",
       "      <td>-0.190</td>\n",
       "    </tr>\n",
       "    <tr>\n",
       "      <th>Ash</th>\n",
       "      <td>-0.022</td>\n",
       "      <td>-0.317</td>\n",
       "    </tr>\n",
       "    <tr>\n",
       "      <th>Alcalinity of ash</th>\n",
       "      <td>-0.244</td>\n",
       "      <td>0.035</td>\n",
       "    </tr>\n",
       "    <tr>\n",
       "      <th>Magnesium</th>\n",
       "      <td>0.148</td>\n",
       "      <td>-0.262</td>\n",
       "    </tr>\n",
       "    <tr>\n",
       "      <th>Total phenols</th>\n",
       "      <td>0.385</td>\n",
       "      <td>-0.096</td>\n",
       "    </tr>\n",
       "    <tr>\n",
       "      <th>Flavanoids</th>\n",
       "      <td>0.420</td>\n",
       "      <td>-0.015</td>\n",
       "    </tr>\n",
       "    <tr>\n",
       "      <th>Nonflavanoid phenols</th>\n",
       "      <td>-0.299</td>\n",
       "      <td>-0.076</td>\n",
       "    </tr>\n",
       "    <tr>\n",
       "      <th>Proanthocyanins</th>\n",
       "      <td>0.308</td>\n",
       "      <td>-0.074</td>\n",
       "    </tr>\n",
       "    <tr>\n",
       "      <th>Color intensity</th>\n",
       "      <td>-0.119</td>\n",
       "      <td>-0.534</td>\n",
       "    </tr>\n",
       "    <tr>\n",
       "      <th>Hue</th>\n",
       "      <td>0.299</td>\n",
       "      <td>0.281</td>\n",
       "    </tr>\n",
       "    <tr>\n",
       "      <th>OD280/OD315 of diluted wines</th>\n",
       "      <td>0.384</td>\n",
       "      <td>0.143</td>\n",
       "    </tr>\n",
       "    <tr>\n",
       "      <th>Proline</th>\n",
       "      <td>0.276</td>\n",
       "      <td>-0.381</td>\n",
       "    </tr>\n",
       "  </tbody>\n",
       "</table>\n",
       "</div>"
      ],
      "text/plain": [
       "                                  0      1\n",
       " Alcohol                      0.128 -0.493\n",
       " Malic acid                  -0.256 -0.190\n",
       " Ash                         -0.022 -0.317\n",
       " Alcalinity of ash           -0.244  0.035\n",
       " Magnesium                    0.148 -0.262\n",
       " Total phenols                0.385 -0.096\n",
       " Flavanoids                   0.420 -0.015\n",
       " Nonflavanoid phenols        -0.299 -0.076\n",
       " Proanthocyanins              0.308 -0.074\n",
       "Color intensity              -0.119 -0.534\n",
       "Hue                           0.299  0.281\n",
       "OD280/OD315 of diluted wines  0.384  0.143\n",
       "Proline                       0.276 -0.381"
      ]
     },
     "execution_count": 47,
     "metadata": {},
     "output_type": "execute_result"
    }
   ],
   "source": [
    "pd.DataFrame(np.round(pca.components_, 3), columns=X.columns).T"
   ]
  },
  {
   "cell_type": "markdown",
   "metadata": {},
   "source": [
    "**Check all components**"
   ]
  },
  {
   "cell_type": "code",
   "execution_count": 49,
   "metadata": {},
   "outputs": [
    {
     "data": {
      "text/plain": [
       "PCA(copy=True, iterated_power='auto', n_components=None, random_state=None,\n",
       "  svd_solver='auto', tol=0.0, whiten=False)"
      ]
     },
     "execution_count": 49,
     "metadata": {},
     "output_type": "execute_result"
    }
   ],
   "source": [
    "pca = PCA(n_components=None)\n",
    "pca.fit(X_train_sc)"
   ]
  },
  {
   "cell_type": "code",
   "execution_count": 50,
   "metadata": {},
   "outputs": [
    {
     "data": {
      "text/plain": [
       "array([[-1.16602698, -3.61532732,  1.15128454, ..., -0.1121504 ,\n",
       "         0.07147567, -0.75559169],\n",
       "       [-3.86261156, -0.48217746,  1.72758428, ...,  0.50457041,\n",
       "        -0.18288356, -0.122403  ],\n",
       "       [ 2.28353786,  1.27503318, -0.13167658, ...,  0.48017987,\n",
       "        -0.45893296,  0.41585049],\n",
       "       ...,\n",
       "       [ 4.22339048, -2.40345929, -1.13704654, ..., -0.12930554,\n",
       "        -0.20588086, -0.04785505],\n",
       "       [-1.80527275,  1.49091985, -0.08991142, ..., -0.50730299,\n",
       "        -0.48437788,  0.46676777],\n",
       "       [-0.07808699,  1.19327925,  1.04439979, ..., -0.24025144,\n",
       "         0.05180158, -0.28153725]])"
      ]
     },
     "execution_count": 50,
     "metadata": {},
     "output_type": "execute_result"
    }
   ],
   "source": [
    "pca.fit_transform(X_train_sc)"
   ]
  },
  {
   "cell_type": "code",
   "execution_count": 51,
   "metadata": {},
   "outputs": [
    {
     "name": "stdout",
     "output_type": "stream",
     "text": [
      "[0.359 0.187 0.116 0.074 0.067 0.049 0.042 0.027 0.023 0.019 0.017 0.013\n",
      " 0.008]\n"
     ]
    }
   ],
   "source": [
    "print(np.round(pca.explained_variance_ratio_, 3))"
   ]
  },
  {
   "cell_type": "code",
   "execution_count": 52,
   "metadata": {},
   "outputs": [
    {
     "data": {
      "text/plain": [
       "array([0.35900066, 0.54592   , 0.66198557, 0.73570273, 0.80224132,\n",
       "       0.85078714, 0.89273756, 0.91957678, 0.94305138, 0.96194872,\n",
       "       0.97910815, 0.99173743, 1.        ])"
      ]
     },
     "execution_count": 52,
     "metadata": {},
     "output_type": "execute_result"
    }
   ],
   "source": [
    "np.cumsum(pca.explained_variance_ratio_)"
   ]
  },
  {
   "cell_type": "code",
   "execution_count": 53,
   "metadata": {},
   "outputs": [
    {
     "data": {
      "image/png": "[encoded data removed]",
      "text/plain": [
       "<Figure size 432x288 with 1 Axes>"
      ]
     },
     "metadata": {
      "needs_background": "light"
     },
     "output_type": "display_data"
    }
   ],
   "source": [
    "plt.plot(np.cumsum(pca.explained_variance_ratio_)*100.)\n",
    "plt.xlabel(\"Number of components\");\n",
    "plt.ylabel(\"cumulative explained variance\");"
   ]
  },
  {
   "cell_type": "markdown",
   "metadata": {},
   "source": [
    "***\n",
    "Practice\n",
    "\n",
    "### Abalone Data\n",
    "\n",
    "8 features\n",
    "\n",
    "Applying PCA, how many components would you need to explain 80% of variance?"
   ]
  },
  {
   "cell_type": "code",
   "execution_count": 66,
   "metadata": {},
   "outputs": [
    {
     "data": {
      "text/plain": [
       "(4177, 9)"
      ]
     },
     "execution_count": 66,
     "metadata": {},
     "output_type": "execute_result"
    }
   ],
   "source": [
    "df = pd.read_table('Data\\Wine\\\\abalone.data', header=None, sep=',')\n",
    "df.shape"
   ]
  },
  {
   "cell_type": "code",
   "execution_count": 67,
   "metadata": {},
   "outputs": [
    {
     "data": {
      "text/html": [
       "<div>\n",
       "<style scoped>\n",
       "    .dataframe tbody tr th:only-of-type {\n",
       "        vertical-align: middle;\n",
       "    }\n",
       "\n",
       "    .dataframe tbody tr th {\n",
       "        vertical-align: top;\n",
       "    }\n",
       "\n",
       "    .dataframe thead th {\n",
       "        text-align: right;\n",
       "    }\n",
       "</style>\n",
       "<table border=\"1\" class=\"dataframe\">\n",
       "  <thead>\n",
       "    <tr style=\"text-align: right;\">\n",
       "      <th></th>\n",
       "      <th>0</th>\n",
       "      <th>1</th>\n",
       "      <th>2</th>\n",
       "      <th>3</th>\n",
       "      <th>4</th>\n",
       "      <th>5</th>\n",
       "      <th>6</th>\n",
       "      <th>7</th>\n",
       "      <th>8</th>\n",
       "    </tr>\n",
       "  </thead>\n",
       "  <tbody>\n",
       "    <tr>\n",
       "      <th>0</th>\n",
       "      <td>M</td>\n",
       "      <td>0.455</td>\n",
       "      <td>0.365</td>\n",
       "      <td>0.095</td>\n",
       "      <td>0.5140</td>\n",
       "      <td>0.2245</td>\n",
       "      <td>0.1010</td>\n",
       "      <td>0.150</td>\n",
       "      <td>15</td>\n",
       "    </tr>\n",
       "    <tr>\n",
       "      <th>1</th>\n",
       "      <td>M</td>\n",
       "      <td>0.350</td>\n",
       "      <td>0.265</td>\n",
       "      <td>0.090</td>\n",
       "      <td>0.2255</td>\n",
       "      <td>0.0995</td>\n",
       "      <td>0.0485</td>\n",
       "      <td>0.070</td>\n",
       "      <td>7</td>\n",
       "    </tr>\n",
       "    <tr>\n",
       "      <th>2</th>\n",
       "      <td>F</td>\n",
       "      <td>0.530</td>\n",
       "      <td>0.420</td>\n",
       "      <td>0.135</td>\n",
       "      <td>0.6770</td>\n",
       "      <td>0.2565</td>\n",
       "      <td>0.1415</td>\n",
       "      <td>0.210</td>\n",
       "      <td>9</td>\n",
       "    </tr>\n",
       "    <tr>\n",
       "      <th>3</th>\n",
       "      <td>M</td>\n",
       "      <td>0.440</td>\n",
       "      <td>0.365</td>\n",
       "      <td>0.125</td>\n",
       "      <td>0.5160</td>\n",
       "      <td>0.2155</td>\n",
       "      <td>0.1140</td>\n",
       "      <td>0.155</td>\n",
       "      <td>10</td>\n",
       "    </tr>\n",
       "    <tr>\n",
       "      <th>4</th>\n",
       "      <td>I</td>\n",
       "      <td>0.330</td>\n",
       "      <td>0.255</td>\n",
       "      <td>0.080</td>\n",
       "      <td>0.2050</td>\n",
       "      <td>0.0895</td>\n",
       "      <td>0.0395</td>\n",
       "      <td>0.055</td>\n",
       "      <td>7</td>\n",
       "    </tr>\n",
       "  </tbody>\n",
       "</table>\n",
       "</div>"
      ],
      "text/plain": [
       "   0      1      2      3       4       5       6      7   8\n",
       "0  M  0.455  0.365  0.095  0.5140  0.2245  0.1010  0.150  15\n",
       "1  M  0.350  0.265  0.090  0.2255  0.0995  0.0485  0.070   7\n",
       "2  F  0.530  0.420  0.135  0.6770  0.2565  0.1415  0.210   9\n",
       "3  M  0.440  0.365  0.125  0.5160  0.2155  0.1140  0.155  10\n",
       "4  I  0.330  0.255  0.080  0.2050  0.0895  0.0395  0.055   7"
      ]
     },
     "execution_count": 67,
     "metadata": {},
     "output_type": "execute_result"
    }
   ],
   "source": [
    "df.head()"
   ]
  },
  {
   "cell_type": "code",
   "execution_count": 70,
   "metadata": {},
   "outputs": [],
   "source": [
    "X = df.iloc[:, 1:]\n",
    "y = df.iloc[:, 0]"
   ]
  },
  {
   "cell_type": "code",
   "execution_count": 73,
   "metadata": {},
   "outputs": [
    {
     "name": "stderr",
     "output_type": "stream",
     "text": [
      "C:\\ProgramData\\Anaconda3\\lib\\site-packages\\sklearn\\preprocessing\\data.py:625: DataConversionWarning: Data with input dtype int64, float64 were all converted to float64 by StandardScaler.\n",
      "  return self.partial_fit(X, y)\n",
      "C:\\ProgramData\\Anaconda3\\lib\\site-packages\\ipykernel_launcher.py:3: DataConversionWarning: Data with input dtype int64, float64 were all converted to float64 by StandardScaler.\n",
      "  This is separate from the ipykernel package so we can avoid doing imports until\n"
     ]
    }
   ],
   "source": [
    "sc = StandardScaler()\n",
    "sc.fit(X)\n",
    "X_sc = sc.transform(X)"
   ]
  },
  {
   "cell_type": "code",
   "execution_count": 74,
   "metadata": {},
   "outputs": [],
   "source": [
    "pca = PCA(n_components=None)"
   ]
  },
  {
   "cell_type": "code",
   "execution_count": 75,
   "metadata": {},
   "outputs": [
    {
     "data": {
      "text/plain": [
       "PCA(copy=True, iterated_power='auto', n_components=None, random_state=None,\n",
       "  svd_solver='auto', tol=0.0, whiten=False)"
      ]
     },
     "execution_count": 75,
     "metadata": {},
     "output_type": "execute_result"
    }
   ],
   "source": [
    "pca.fit(X_sc)"
   ]
  },
  {
   "cell_type": "code",
   "execution_count": 80,
   "metadata": {},
   "outputs": [
    {
     "name": "stdout",
     "output_type": "stream",
     "text": [
      "[0.839 0.087 0.032 0.021 0.011 0.008 0.002 0.001]\n"
     ]
    }
   ],
   "source": [
    "print(np.round(pca.explained_variance_ratio_, 3))"
   ]
  },
  {
   "cell_type": "code",
   "execution_count": 82,
   "metadata": {},
   "outputs": [
    {
     "name": "stdout",
     "output_type": "stream",
     "text": [
      "[0.839 0.926 0.958 0.979 0.99  0.998 1.    1.001]\n"
     ]
    }
   ],
   "source": [
    "print(np.cumsum(np.round(pca.explained_variance_ratio_, 3)))"
   ]
  },
  {
   "cell_type": "markdown",
   "metadata": {},
   "source": [
    "Only need 1 component to explain 80% variance.\n",
    "\n",
    "***"
   ]
  },
  {
   "cell_type": "markdown",
   "metadata": {},
   "source": [
    "## Part 2"
   ]
  },
  {
   "cell_type": "code",
   "execution_count": 83,
   "metadata": {},
   "outputs": [
    {
     "data": {
      "text/plain": [
       "(178, 14)"
      ]
     },
     "execution_count": 83,
     "metadata": {},
     "output_type": "execute_result"
    }
   ],
   "source": [
    "df = pd.read_csv('Data\\Wine\\wine.csv')\n",
    "df.shape"
   ]
  },
  {
   "cell_type": "code",
   "execution_count": 84,
   "metadata": {},
   "outputs": [],
   "source": [
    "X = df.iloc[:, 1:]\n",
    "y = df['class']"
   ]
  },
  {
   "cell_type": "code",
   "execution_count": 85,
   "metadata": {},
   "outputs": [
    {
     "name": "stderr",
     "output_type": "stream",
     "text": [
      "C:\\ProgramData\\Anaconda3\\lib\\site-packages\\sklearn\\preprocessing\\data.py:625: DataConversionWarning: Data with input dtype int64, float64 were all converted to float64 by StandardScaler.\n",
      "  return self.partial_fit(X, y)\n",
      "C:\\ProgramData\\Anaconda3\\lib\\site-packages\\ipykernel_launcher.py:9: DataConversionWarning: Data with input dtype int64, float64 were all converted to float64 by StandardScaler.\n",
      "  if __name__ == '__main__':\n",
      "C:\\ProgramData\\Anaconda3\\lib\\site-packages\\ipykernel_launcher.py:10: DataConversionWarning: Data with input dtype int64, float64 were all converted to float64 by StandardScaler.\n",
      "  # Remove the CWD from sys.path while we load stuff.\n"
     ]
    }
   ],
   "source": [
    "from sklearn.model_selection import train_test_split\n",
    "X_train, X_test, y_train, y_test = train_test_split(X, y, test_size=0.2,\n",
    "                                                    random_state=42)\n",
    "\n",
    "from sklearn.preprocessing import StandardScaler\n",
    "sc = StandardScaler()\n",
    "\n",
    "sc.fit(X_train)\n",
    "X_train_sc = sc.transform(X_train)\n",
    "X_test_sc = sc.transform(X_test)"
   ]
  },
  {
   "cell_type": "code",
   "execution_count": 86,
   "metadata": {},
   "outputs": [
    {
     "data": {
      "text/plain": [
       "PCA(copy=True, iterated_power='auto', n_components=None, random_state=None,\n",
       "  svd_solver='auto', tol=0.0, whiten=False)"
      ]
     },
     "execution_count": 86,
     "metadata": {},
     "output_type": "execute_result"
    }
   ],
   "source": [
    "pca = PCA(n_components=None)\n",
    "pca.fit(X_train_sc)"
   ]
  },
  {
   "cell_type": "code",
   "execution_count": 93,
   "metadata": {},
   "outputs": [],
   "source": [
    "res = pca.transform(X_train_sc)\n",
    "index_name = ['PCA_'+str(k) for k in range(0, len(res))]"
   ]
  },
  {
   "cell_type": "code",
   "execution_count": 99,
   "metadata": {},
   "outputs": [
    {
     "data": {
      "text/html": [
       "<div>\n",
       "<style scoped>\n",
       "    .dataframe tbody tr th:only-of-type {\n",
       "        vertical-align: middle;\n",
       "    }\n",
       "\n",
       "    .dataframe tbody tr th {\n",
       "        vertical-align: top;\n",
       "    }\n",
       "\n",
       "    .dataframe thead th {\n",
       "        text-align: right;\n",
       "    }\n",
       "</style>\n",
       "<table border=\"1\" class=\"dataframe\">\n",
       "  <thead>\n",
       "    <tr style=\"text-align: right;\">\n",
       "      <th></th>\n",
       "      <th>PCA_0</th>\n",
       "      <th>PCA_1</th>\n",
       "      <th>PCA_2</th>\n",
       "      <th>PCA_3</th>\n",
       "      <th>PCA_4</th>\n",
       "      <th>PCA_5</th>\n",
       "      <th>PCA_6</th>\n",
       "      <th>PCA_7</th>\n",
       "      <th>PCA_8</th>\n",
       "      <th>PCA_9</th>\n",
       "      <th>...</th>\n",
       "      <th>PCA_132</th>\n",
       "      <th>PCA_133</th>\n",
       "      <th>PCA_134</th>\n",
       "      <th>PCA_135</th>\n",
       "      <th>PCA_136</th>\n",
       "      <th>PCA_137</th>\n",
       "      <th>PCA_138</th>\n",
       "      <th>PCA_139</th>\n",
       "      <th>PCA_140</th>\n",
       "      <th>PCA_141</th>\n",
       "    </tr>\n",
       "  </thead>\n",
       "  <tbody>\n",
       "    <tr>\n",
       "      <th>Malic acid</th>\n",
       "      <td>-3.615327</td>\n",
       "      <td>-0.482177</td>\n",
       "      <td>1.275033</td>\n",
       "      <td>-2.496962</td>\n",
       "      <td>0.688203</td>\n",
       "      <td>2.225773</td>\n",
       "      <td>2.004699</td>\n",
       "      <td>0.202558</td>\n",
       "      <td>-0.350467</td>\n",
       "      <td>-1.194808</td>\n",
       "      <td>...</td>\n",
       "      <td>2.383573</td>\n",
       "      <td>1.254332</td>\n",
       "      <td>-0.285536</td>\n",
       "      <td>-2.655658</td>\n",
       "      <td>-0.851595</td>\n",
       "      <td>0.920966</td>\n",
       "      <td>2.108473</td>\n",
       "      <td>-2.403459</td>\n",
       "      <td>1.490920</td>\n",
       "      <td>1.193279</td>\n",
       "    </tr>\n",
       "    <tr>\n",
       "      <th>Alcohol</th>\n",
       "      <td>-1.166027</td>\n",
       "      <td>-3.862612</td>\n",
       "      <td>2.283538</td>\n",
       "      <td>-1.678507</td>\n",
       "      <td>1.572842</td>\n",
       "      <td>0.202555</td>\n",
       "      <td>0.883339</td>\n",
       "      <td>-0.715050</td>\n",
       "      <td>-2.315354</td>\n",
       "      <td>2.481817</td>\n",
       "      <td>...</td>\n",
       "      <td>-0.448901</td>\n",
       "      <td>1.892591</td>\n",
       "      <td>1.314532</td>\n",
       "      <td>-3.239215</td>\n",
       "      <td>3.106377</td>\n",
       "      <td>1.646677</td>\n",
       "      <td>-0.248324</td>\n",
       "      <td>4.223390</td>\n",
       "      <td>-1.805273</td>\n",
       "      <td>-0.078087</td>\n",
       "    </tr>\n",
       "    <tr>\n",
       "      <th>Proline</th>\n",
       "      <td>-0.755592</td>\n",
       "      <td>-0.122403</td>\n",
       "      <td>0.415850</td>\n",
       "      <td>-0.791136</td>\n",
       "      <td>0.353050</td>\n",
       "      <td>-0.047309</td>\n",
       "      <td>-0.331796</td>\n",
       "      <td>-0.217981</td>\n",
       "      <td>-0.332538</td>\n",
       "      <td>0.007792</td>\n",
       "      <td>...</td>\n",
       "      <td>-0.378883</td>\n",
       "      <td>-0.904471</td>\n",
       "      <td>1.420535</td>\n",
       "      <td>-0.276335</td>\n",
       "      <td>-0.050149</td>\n",
       "      <td>-0.251027</td>\n",
       "      <td>0.226736</td>\n",
       "      <td>-0.047855</td>\n",
       "      <td>0.466768</td>\n",
       "      <td>-0.281537</td>\n",
       "    </tr>\n",
       "    <tr>\n",
       "      <th>Proanthocyanins</th>\n",
       "      <td>-0.639966</td>\n",
       "      <td>-0.005981</td>\n",
       "      <td>-0.481336</td>\n",
       "      <td>-0.121445</td>\n",
       "      <td>0.251356</td>\n",
       "      <td>-0.434503</td>\n",
       "      <td>-0.483237</td>\n",
       "      <td>-1.153828</td>\n",
       "      <td>-0.604990</td>\n",
       "      <td>1.278853</td>\n",
       "      <td>...</td>\n",
       "      <td>0.659534</td>\n",
       "      <td>0.346474</td>\n",
       "      <td>-0.490850</td>\n",
       "      <td>-0.681130</td>\n",
       "      <td>-1.216004</td>\n",
       "      <td>-1.031495</td>\n",
       "      <td>0.541342</td>\n",
       "      <td>0.870520</td>\n",
       "      <td>0.374641</td>\n",
       "      <td>-0.361991</td>\n",
       "    </tr>\n",
       "    <tr>\n",
       "      <th>Flavanoids</th>\n",
       "      <td>-0.553745</td>\n",
       "      <td>1.257686</td>\n",
       "      <td>-0.979052</td>\n",
       "      <td>-0.666927</td>\n",
       "      <td>-0.078362</td>\n",
       "      <td>0.183285</td>\n",
       "      <td>-0.234952</td>\n",
       "      <td>0.277431</td>\n",
       "      <td>0.778538</td>\n",
       "      <td>0.296284</td>\n",
       "      <td>...</td>\n",
       "      <td>-0.385097</td>\n",
       "      <td>-1.490401</td>\n",
       "      <td>-0.787262</td>\n",
       "      <td>-0.092232</td>\n",
       "      <td>0.173484</td>\n",
       "      <td>-1.441185</td>\n",
       "      <td>-0.201445</td>\n",
       "      <td>0.889966</td>\n",
       "      <td>0.607321</td>\n",
       "      <td>-0.675202</td>\n",
       "    </tr>\n",
       "    <tr>\n",
       "      <th>Hue</th>\n",
       "      <td>-0.112150</td>\n",
       "      <td>0.504570</td>\n",
       "      <td>0.480180</td>\n",
       "      <td>-0.319599</td>\n",
       "      <td>0.309145</td>\n",
       "      <td>-0.233613</td>\n",
       "      <td>-0.557362</td>\n",
       "      <td>0.101598</td>\n",
       "      <td>0.138492</td>\n",
       "      <td>-0.265687</td>\n",
       "      <td>...</td>\n",
       "      <td>0.393101</td>\n",
       "      <td>1.018104</td>\n",
       "      <td>-0.241156</td>\n",
       "      <td>-0.066664</td>\n",
       "      <td>-0.410631</td>\n",
       "      <td>-0.277463</td>\n",
       "      <td>-0.385403</td>\n",
       "      <td>-0.129306</td>\n",
       "      <td>-0.507303</td>\n",
       "      <td>-0.240251</td>\n",
       "    </tr>\n",
       "    <tr>\n",
       "      <th>OD280/OD315 of diluted wines</th>\n",
       "      <td>0.071476</td>\n",
       "      <td>-0.182884</td>\n",
       "      <td>-0.458933</td>\n",
       "      <td>0.045823</td>\n",
       "      <td>-0.119233</td>\n",
       "      <td>-0.190320</td>\n",
       "      <td>0.272664</td>\n",
       "      <td>-0.916741</td>\n",
       "      <td>-0.284014</td>\n",
       "      <td>-0.131304</td>\n",
       "      <td>...</td>\n",
       "      <td>0.671307</td>\n",
       "      <td>-0.505715</td>\n",
       "      <td>0.902789</td>\n",
       "      <td>-0.162116</td>\n",
       "      <td>0.538444</td>\n",
       "      <td>-0.363199</td>\n",
       "      <td>0.594517</td>\n",
       "      <td>-0.205881</td>\n",
       "      <td>-0.484378</td>\n",
       "      <td>0.051802</td>\n",
       "    </tr>\n",
       "    <tr>\n",
       "      <th>Magnesium</th>\n",
       "      <td>0.221634</td>\n",
       "      <td>-0.226540</td>\n",
       "      <td>0.215798</td>\n",
       "      <td>-0.003420</td>\n",
       "      <td>-0.674013</td>\n",
       "      <td>0.689123</td>\n",
       "      <td>-0.303721</td>\n",
       "      <td>-1.649756</td>\n",
       "      <td>-0.507613</td>\n",
       "      <td>0.191238</td>\n",
       "      <td>...</td>\n",
       "      <td>-0.946465</td>\n",
       "      <td>0.858385</td>\n",
       "      <td>0.638835</td>\n",
       "      <td>-0.369685</td>\n",
       "      <td>0.736762</td>\n",
       "      <td>-0.838742</td>\n",
       "      <td>-0.363045</td>\n",
       "      <td>-0.673900</td>\n",
       "      <td>-1.215320</td>\n",
       "      <td>0.401311</td>\n",
       "    </tr>\n",
       "    <tr>\n",
       "      <th>Color intensity</th>\n",
       "      <td>0.262397</td>\n",
       "      <td>-0.453600</td>\n",
       "      <td>-0.777822</td>\n",
       "      <td>-0.123055</td>\n",
       "      <td>-0.275627</td>\n",
       "      <td>0.909094</td>\n",
       "      <td>0.166193</td>\n",
       "      <td>0.245809</td>\n",
       "      <td>-0.250217</td>\n",
       "      <td>-0.221972</td>\n",
       "      <td>...</td>\n",
       "      <td>-0.203160</td>\n",
       "      <td>-0.202517</td>\n",
       "      <td>-0.219869</td>\n",
       "      <td>-0.008425</td>\n",
       "      <td>0.530734</td>\n",
       "      <td>-0.487055</td>\n",
       "      <td>0.589346</td>\n",
       "      <td>-0.669495</td>\n",
       "      <td>0.603541</td>\n",
       "      <td>0.717003</td>\n",
       "    </tr>\n",
       "    <tr>\n",
       "      <th>Nonflavanoid phenols</th>\n",
       "      <td>0.918085</td>\n",
       "      <td>-0.113136</td>\n",
       "      <td>-0.678263</td>\n",
       "      <td>0.150849</td>\n",
       "      <td>-0.127387</td>\n",
       "      <td>-0.200097</td>\n",
       "      <td>0.302700</td>\n",
       "      <td>-1.188509</td>\n",
       "      <td>0.362818</td>\n",
       "      <td>0.236359</td>\n",
       "      <td>...</td>\n",
       "      <td>0.682362</td>\n",
       "      <td>-0.599961</td>\n",
       "      <td>-1.508226</td>\n",
       "      <td>0.505734</td>\n",
       "      <td>0.151646</td>\n",
       "      <td>1.878092</td>\n",
       "      <td>0.218571</td>\n",
       "      <td>0.285528</td>\n",
       "      <td>0.446454</td>\n",
       "      <td>-0.814767</td>\n",
       "    </tr>\n",
       "    <tr>\n",
       "      <th>Ash</th>\n",
       "      <td>1.151285</td>\n",
       "      <td>1.727584</td>\n",
       "      <td>-0.131677</td>\n",
       "      <td>0.556619</td>\n",
       "      <td>-1.417945</td>\n",
       "      <td>-0.398619</td>\n",
       "      <td>-0.292837</td>\n",
       "      <td>-0.809916</td>\n",
       "      <td>-0.136668</td>\n",
       "      <td>1.004307</td>\n",
       "      <td>...</td>\n",
       "      <td>2.183586</td>\n",
       "      <td>0.362737</td>\n",
       "      <td>5.263001</td>\n",
       "      <td>1.038615</td>\n",
       "      <td>-0.344218</td>\n",
       "      <td>1.955566</td>\n",
       "      <td>-0.401127</td>\n",
       "      <td>-1.137047</td>\n",
       "      <td>-0.089911</td>\n",
       "      <td>1.044400</td>\n",
       "    </tr>\n",
       "    <tr>\n",
       "      <th>Alcalinity of ash</th>\n",
       "      <td>1.167179</td>\n",
       "      <td>0.467086</td>\n",
       "      <td>1.107830</td>\n",
       "      <td>1.131270</td>\n",
       "      <td>-0.425082</td>\n",
       "      <td>0.838731</td>\n",
       "      <td>-0.708377</td>\n",
       "      <td>-1.850742</td>\n",
       "      <td>0.771597</td>\n",
       "      <td>0.685273</td>\n",
       "      <td>...</td>\n",
       "      <td>-0.873428</td>\n",
       "      <td>-0.290176</td>\n",
       "      <td>-0.333771</td>\n",
       "      <td>0.700891</td>\n",
       "      <td>-0.391147</td>\n",
       "      <td>0.314591</td>\n",
       "      <td>0.662104</td>\n",
       "      <td>0.905991</td>\n",
       "      <td>0.162752</td>\n",
       "      <td>0.319054</td>\n",
       "    </tr>\n",
       "    <tr>\n",
       "      <th>Total phenols</th>\n",
       "      <td>3.062380</td>\n",
       "      <td>-1.016510</td>\n",
       "      <td>1.004315</td>\n",
       "      <td>2.754779</td>\n",
       "      <td>-0.320546</td>\n",
       "      <td>1.057946</td>\n",
       "      <td>0.038459</td>\n",
       "      <td>0.088414</td>\n",
       "      <td>-1.650893</td>\n",
       "      <td>0.331441</td>\n",
       "      <td>...</td>\n",
       "      <td>0.099239</td>\n",
       "      <td>0.100506</td>\n",
       "      <td>0.901823</td>\n",
       "      <td>0.182274</td>\n",
       "      <td>-0.191256</td>\n",
       "      <td>-0.103732</td>\n",
       "      <td>0.286398</td>\n",
       "      <td>0.556481</td>\n",
       "      <td>1.066063</td>\n",
       "      <td>-0.587957</td>\n",
       "    </tr>\n",
       "  </tbody>\n",
       "</table>\n",
       "<p>13 rows × 142 columns</p>\n",
       "</div>"
      ],
      "text/plain": [
       "                                 PCA_0     PCA_1     PCA_2     PCA_3  \\\n",
       " Malic acid                  -3.615327 -0.482177  1.275033 -2.496962   \n",
       " Alcohol                     -1.166027 -3.862612  2.283538 -1.678507   \n",
       "Proline                      -0.755592 -0.122403  0.415850 -0.791136   \n",
       " Proanthocyanins             -0.639966 -0.005981 -0.481336 -0.121445   \n",
       " Flavanoids                  -0.553745  1.257686 -0.979052 -0.666927   \n",
       "Hue                          -0.112150  0.504570  0.480180 -0.319599   \n",
       "OD280/OD315 of diluted wines  0.071476 -0.182884 -0.458933  0.045823   \n",
       " Magnesium                    0.221634 -0.226540  0.215798 -0.003420   \n",
       "Color intensity               0.262397 -0.453600 -0.777822 -0.123055   \n",
       " Nonflavanoid phenols         0.918085 -0.113136 -0.678263  0.150849   \n",
       " Ash                          1.151285  1.727584 -0.131677  0.556619   \n",
       " Alcalinity of ash            1.167179  0.467086  1.107830  1.131270   \n",
       " Total phenols                3.062380 -1.016510  1.004315  2.754779   \n",
       "\n",
       "                                 PCA_4     PCA_5     PCA_6     PCA_7  \\\n",
       " Malic acid                   0.688203  2.225773  2.004699  0.202558   \n",
       " Alcohol                      1.572842  0.202555  0.883339 -0.715050   \n",
       "Proline                       0.353050 -0.047309 -0.331796 -0.217981   \n",
       " Proanthocyanins              0.251356 -0.434503 -0.483237 -1.153828   \n",
       " Flavanoids                  -0.078362  0.183285 -0.234952  0.277431   \n",
       "Hue                           0.309145 -0.233613 -0.557362  0.101598   \n",
       "OD280/OD315 of diluted wines -0.119233 -0.190320  0.272664 -0.916741   \n",
       " Magnesium                   -0.674013  0.689123 -0.303721 -1.649756   \n",
       "Color intensity              -0.275627  0.909094  0.166193  0.245809   \n",
       " Nonflavanoid phenols        -0.127387 -0.200097  0.302700 -1.188509   \n",
       " Ash                         -1.417945 -0.398619 -0.292837 -0.809916   \n",
       " Alcalinity of ash           -0.425082  0.838731 -0.708377 -1.850742   \n",
       " Total phenols               -0.320546  1.057946  0.038459  0.088414   \n",
       "\n",
       "                                 PCA_8     PCA_9    ...      PCA_132  \\\n",
       " Malic acid                  -0.350467 -1.194808    ...     2.383573   \n",
       " Alcohol                     -2.315354  2.481817    ...    -0.448901   \n",
       "Proline                      -0.332538  0.007792    ...    -0.378883   \n",
       " Proanthocyanins             -0.604990  1.278853    ...     0.659534   \n",
       " Flavanoids                   0.778538  0.296284    ...    -0.385097   \n",
       "Hue                           0.138492 -0.265687    ...     0.393101   \n",
       "OD280/OD315 of diluted wines -0.284014 -0.131304    ...     0.671307   \n",
       " Magnesium                   -0.507613  0.191238    ...    -0.946465   \n",
       "Color intensity              -0.250217 -0.221972    ...    -0.203160   \n",
       " Nonflavanoid phenols         0.362818  0.236359    ...     0.682362   \n",
       " Ash                         -0.136668  1.004307    ...     2.183586   \n",
       " Alcalinity of ash            0.771597  0.685273    ...    -0.873428   \n",
       " Total phenols               -1.650893  0.331441    ...     0.099239   \n",
       "\n",
       "                               PCA_133   PCA_134   PCA_135   PCA_136  \\\n",
       " Malic acid                   1.254332 -0.285536 -2.655658 -0.851595   \n",
       " Alcohol                      1.892591  1.314532 -3.239215  3.106377   \n",
       "Proline                      -0.904471  1.420535 -0.276335 -0.050149   \n",
       " Proanthocyanins              0.346474 -0.490850 -0.681130 -1.216004   \n",
       " Flavanoids                  -1.490401 -0.787262 -0.092232  0.173484   \n",
       "Hue                           1.018104 -0.241156 -0.066664 -0.410631   \n",
       "OD280/OD315 of diluted wines -0.505715  0.902789 -0.162116  0.538444   \n",
       " Magnesium                    0.858385  0.638835 -0.369685  0.736762   \n",
       "Color intensity              -0.202517 -0.219869 -0.008425  0.530734   \n",
       " Nonflavanoid phenols        -0.599961 -1.508226  0.505734  0.151646   \n",
       " Ash                          0.362737  5.263001  1.038615 -0.344218   \n",
       " Alcalinity of ash           -0.290176 -0.333771  0.700891 -0.391147   \n",
       " Total phenols                0.100506  0.901823  0.182274 -0.191256   \n",
       "\n",
       "                               PCA_137   PCA_138   PCA_139   PCA_140   PCA_141  \n",
       " Malic acid                   0.920966  2.108473 -2.403459  1.490920  1.193279  \n",
       " Alcohol                      1.646677 -0.248324  4.223390 -1.805273 -0.078087  \n",
       "Proline                      -0.251027  0.226736 -0.047855  0.466768 -0.281537  \n",
       " Proanthocyanins             -1.031495  0.541342  0.870520  0.374641 -0.361991  \n",
       " Flavanoids                  -1.441185 -0.201445  0.889966  0.607321 -0.675202  \n",
       "Hue                          -0.277463 -0.385403 -0.129306 -0.507303 -0.240251  \n",
       "OD280/OD315 of diluted wines -0.363199  0.594517 -0.205881 -0.484378  0.051802  \n",
       " Magnesium                   -0.838742 -0.363045 -0.673900 -1.215320  0.401311  \n",
       "Color intensity              -0.487055  0.589346 -0.669495  0.603541  0.717003  \n",
       " Nonflavanoid phenols         1.878092  0.218571  0.285528  0.446454 -0.814767  \n",
       " Ash                          1.955566 -0.401127 -1.137047 -0.089911  1.044400  \n",
       " Alcalinity of ash            0.314591  0.662104  0.905991  0.162752  0.319054  \n",
       " Total phenols               -0.103732  0.286398  0.556481  1.066063 -0.587957  \n",
       "\n",
       "[13 rows x 142 columns]"
      ]
     },
     "execution_count": 99,
     "metadata": {},
     "output_type": "execute_result"
    }
   ],
   "source": [
    "df1 = pd.DataFrame(res, columns=df.columns[1:], \n",
    "                   index=index_name)\n",
    "df1.T.sort_values(by='PCA_0')\n"
   ]
  },
  {
   "cell_type": "markdown",
   "metadata": {},
   "source": [
    "This shows how components and features are related."
   ]
  },
  {
   "cell_type": "code",
   "execution_count": null,
   "metadata": {},
   "outputs": [],
   "source": []
  }
 ],
 "metadata": {
  "kernelspec": {
   "display_name": "Python 3",
   "language": "python",
   "name": "python3"
  },
  "language_info": {
   "codemirror_mode": {
    "name": "ipython",
    "version": 3
   },
   "file_extension": ".py",
   "mimetype": "text/x-python",
   "name": "python",
   "nbconvert_exporter": "python",
   "pygments_lexer": "ipython3",
   "version": "3.7.1"
  }
 },
 "nbformat": 4,
 "nbformat_minor": 2
}
