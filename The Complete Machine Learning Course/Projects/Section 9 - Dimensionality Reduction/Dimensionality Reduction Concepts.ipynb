{
 "cells": [
  {
   "cell_type": "markdown",
   "metadata": {},
   "source": [
    "# Dimensionality Reduction"
   ]
  },
  {
   "cell_type": "markdown",
   "metadata": {},
   "source": [
    "### Principal Component Analysis (PCA)\n",
    " - Linear dimensionality reduction using Singular Value Decomposition of the data to project it to a lower dimensional space.\n",
    " - Statistical procedure that utilizes orthogonal transformation technology.\n",
    " - Convert possible correlated features (predictors) into linearly uncorrelated features called principal components.\n",
    " - \\# of principal components <= number of features.\n",
    " - First principal component explains the largest possible variance.\n",
    " - Each subsequent component has the highest variance subject to the restriction that it must be orthogonal to the preceding components.\n",
    " - A collection of the components are called vectors.\n",
    " - Sensitive to scaling.\n",
    " \n",
    " \n",
    "### Linear Discriminant Analysis (LDA)\n",
    " - Most commonly used as a dimensionality reduction technique in the pre-processing step for pattern-classification and machine learning applications.\n",
    " - Goal is to project a dataset onto a lower-dimensional space with good class-separability in order to avoid overfitting (\"curse of dimensionality\") and also reduce the computational costs.\n",
    " - Locate the 'boundaries' around clusters of classes.\n",
    " - Projects data points on a line.\n",
    " - A centroid will be allocated to each cluster or have a centroid nearby.\n",
    " - Maximizing the component axes for class-separation."
   ]
  },
  {
   "cell_type": "markdown",
   "metadata": {},
   "source": [
    "***\n",
    "\n",
    "## Linear Algebra Refresher\n",
    "\n",
    "Linear Algebra revision:\n",
    "$$A=\\begin{bmatrix} 1. & 2. \\\\ 10. & 20. \\end{bmatrix}$$\n",
    "\n",
    "$$B=\\begin{bmatrix} 1. & 2. \\\\ 100. & 200. \\end{bmatrix}$$\n",
    "\n",
    "\\begin{align}\n",
    "A \\times B & = \\begin{bmatrix} 1. & 2 \\\\ 10. & 20. \\end{bmatrix} \\times \\begin{bmatrix} 1. & 2. \\\\ 100. & 200. \\end{bmatrix} \\\\ & = \\begin{bmatrix} 201. & 401. \\\\ 2010. & 4020. \\end{bmatrix} \\\\\n",
    "\\end{align}\n",
    "\n",
    "By parts:\n",
    "$$A \\times B = \\begin{bmatrix} 1. \\times 1. + 2. \\times 100. & 1. \\times 2. + 2. \\times 200. \\\\\n",
    "10. \\times 1. + 20. \\times 100. & 10. \\times 2. + 20. \\times 200. \\end{bmatrix}$$\n",
    "\n",
    "\n",
    "**Libraries**"
   ]
  },
  {
   "cell_type": "code",
   "execution_count": 1,
   "metadata": {},
   "outputs": [],
   "source": [
    "import numpy as np\n",
    "import matplotlib.pyplot as plt\n",
    "%matplotlib inline\n",
    "import pandas as pd\n",
    "import seaborn as sns\n",
    "sns.set()"
   ]
  },
  {
   "cell_type": "code",
   "execution_count": 2,
   "metadata": {},
   "outputs": [],
   "source": [
    "A = [[1., 2.], [10., 20.]]\n",
    "B = [[1., 2.], [100., 200.]]"
   ]
  },
  {
   "cell_type": "code",
   "execution_count": 4,
   "metadata": {},
   "outputs": [
    {
     "data": {
      "text/plain": [
       "([[1.0, 2.0], [10.0, 20.0]], [[1.0, 2.0], [100.0, 200.0]])"
      ]
     },
     "execution_count": 4,
     "metadata": {},
     "output_type": "execute_result"
    }
   ],
   "source": [
    "A, B"
   ]
  },
  {
   "cell_type": "code",
   "execution_count": 5,
   "metadata": {},
   "outputs": [
    {
     "data": {
      "text/plain": [
       "array([[ 201.,  402.],\n",
       "       [2010., 4020.]])"
      ]
     },
     "execution_count": 5,
     "metadata": {},
     "output_type": "execute_result"
    }
   ],
   "source": [
    "np.dot(A, B)"
   ]
  },
  {
   "cell_type": "code",
   "execution_count": null,
   "metadata": {},
   "outputs": [],
   "source": []
  }
 ],
 "metadata": {
  "kernelspec": {
   "display_name": "Python 3",
   "language": "python",
   "name": "python3"
  },
  "language_info": {
   "codemirror_mode": {
    "name": "ipython",
    "version": 3
   },
   "file_extension": ".py",
   "mimetype": "text/x-python",
   "name": "python",
   "nbconvert_exporter": "python",
   "pygments_lexer": "ipython3",
   "version": "3.7.1"
  }
 },
 "nbformat": 4,
 "nbformat_minor": 2
}
